{
  "nbformat": 4,
  "nbformat_minor": 0,
  "metadata": {
    "colab": {
      "name": "codeTrans_source_code_summarization_sql_code_small",
      "provenance": [],
      "collapsed_sections": [],
      "authorship_tag": "ABX9TyPBdCaSD+nUadRks6TI7XVQ",
      "include_colab_link": true
    },
    "kernelspec": {
      "name": "python3",
      "display_name": "Python 3"
    }
  },
  "cells": [
    {
      "cell_type": "markdown",
      "metadata": {
        "id": "view-in-github",
        "colab_type": "text"
      },
      "source": [
        "<a href=\"https://colab.research.google.com/github/agemagician/CodeTrans/blob/main/prediction/single%20task/source%20code%20summarization/sql/small_model.ipynb\" target=\"_parent\"><img src=\"https://colab.research.google.com/assets/colab-badge.svg\" alt=\"Open In Colab\"/></a>"
      ]
    },
    {
      "cell_type": "markdown",
      "metadata": {
        "id": "6YPrvwDIHdBe"
      },
      "source": [
        "## Install the library and download the pretrained models"
      ]
    },
    {
      "cell_type": "code",
      "metadata": {
        "id": "_WI23u_mBGZ7",
        "outputId": "af6e7546-7e0b-4ad7-8582-0bb75c991dc0",
        "colab": {
          "base_uri": "https://localhost:8080/"
        }
      },
      "source": [
        "print(\"Installing dependencies...\")\n",
        "%tensorflow_version 2.x\n",
        "!pip install -q t5==0.6.4\n",
        "\n",
        "import functools\n",
        "import os\n",
        "import time\n",
        "import warnings\n",
        "warnings.filterwarnings(\"ignore\", category=DeprecationWarning)\n",
        "\n",
        "import tensorflow.compat.v1 as tf\n",
        "import tensorflow_datasets as tfds\n",
        "\n",
        "import t5\n",
        "\n",
        "!wget \"https://www.dropbox.com/sh/kjoqdpj7e16dny9/AADdvjWVFckCgNQN-AqMKhiDa?dl=1\" -O vocabulary.zip\n",
        "!unzip vocabulary.zip\n",
        "!rm vocabulary.zip\n",
        "!wget \"https://www.dropbox.com/sh/9ua4fa2sj1m6jla/AAA0mHkL9MY_FLNbiyloo6xaa?dl=1\" -O sql.zip\n",
        "!unzip sql.zip\n",
        "!rm sql.zip"
      ],
      "execution_count": 153,
      "outputs": [
        {
          "output_type": "stream",
          "text": [
            "Installing dependencies...\n",
            "\u001b[K     |████████████████████████████████| 163kB 2.8MB/s \n",
            "\u001b[K     |████████████████████████████████| 1.1MB 7.9MB/s \n",
            "\u001b[K     |████████████████████████████████| 71kB 6.4MB/s \n",
            "\u001b[K     |████████████████████████████████| 2.6MB 17.9MB/s \n",
            "\u001b[K     |████████████████████████████████| 348kB 37.3MB/s \n",
            "\u001b[K     |████████████████████████████████| 1.3MB 34.9MB/s \n",
            "\u001b[K     |████████████████████████████████| 3.6MB 47.9MB/s \n",
            "\u001b[K     |████████████████████████████████| 890kB 46.2MB/s \n",
            "\u001b[K     |████████████████████████████████| 2.9MB 44.6MB/s \n",
            "\u001b[?25h  Building wheel for sacremoses (setup.py) ... \u001b[?25l\u001b[?25hdone\n",
            "\u001b[31mERROR: transformers 3.5.0 has requirement sentencepiece==0.1.91, but you'll have sentencepiece 0.1.94 which is incompatible.\u001b[0m\n",
            "INFO:tensorflow:tokens_length=568 inputs_length=512 targets_length=114 noise_density=0.15 mean_noise_span_length=3.0 \n",
            "--2020-11-10 21:18:56--  https://www.dropbox.com/sh/kjoqdpj7e16dny9/AADdvjWVFckCgNQN-AqMKhiDa?dl=1\n",
            "Resolving www.dropbox.com (www.dropbox.com)... 162.125.5.1, 2620:100:601d:1::a27d:501\n",
            "Connecting to www.dropbox.com (www.dropbox.com)|162.125.5.1|:443... connected.\n",
            "HTTP request sent, awaiting response... 301 Moved Permanently\n",
            "Location: /sh/dl/kjoqdpj7e16dny9/AADdvjWVFckCgNQN-AqMKhiDa [following]\n",
            "--2020-11-10 21:18:56--  https://www.dropbox.com/sh/dl/kjoqdpj7e16dny9/AADdvjWVFckCgNQN-AqMKhiDa\n",
            "Reusing existing connection to www.dropbox.com:443.\n",
            "HTTP request sent, awaiting response... 302 Found\n",
            "Location: https://uc67f6331044493b45b9fff96111.dl.dropboxusercontent.com/zip_download_get/AmUThkHXiuxb18qjY7LkApmJY-3LrTi3Xzx4v0wTc8iFg8z4B0lvgTsWnjqnJokmGeAGASeBFbt4Qaixs2vlvmPzAi35KZurOjbxdQUcvpgong?dl=1 [following]\n",
            "--2020-11-10 21:18:57--  https://uc67f6331044493b45b9fff96111.dl.dropboxusercontent.com/zip_download_get/AmUThkHXiuxb18qjY7LkApmJY-3LrTi3Xzx4v0wTc8iFg8z4B0lvgTsWnjqnJokmGeAGASeBFbt4Qaixs2vlvmPzAi35KZurOjbxdQUcvpgong?dl=1\n",
            "Resolving uc67f6331044493b45b9fff96111.dl.dropboxusercontent.com (uc67f6331044493b45b9fff96111.dl.dropboxusercontent.com)... 162.125.5.15, 2620:100:601f:15::a27d:90f\n",
            "Connecting to uc67f6331044493b45b9fff96111.dl.dropboxusercontent.com (uc67f6331044493b45b9fff96111.dl.dropboxusercontent.com)|162.125.5.15|:443... connected.\n",
            "HTTP request sent, awaiting response... 200 OK\n",
            "Length: 1381528 (1.3M) [application/zip]\n",
            "Saving to: ‘vocabulary.zip’\n",
            "\n",
            "vocabulary.zip      100%[===================>]   1.32M  8.19MB/s    in 0.2s    \n",
            "\n",
            "2020-11-10 21:18:58 (8.19 MB/s) - ‘vocabulary.zip’ saved [1381528/1381528]\n",
            "\n",
            "Archive:  vocabulary.zip\n",
            "warning:  stripped absolute path spec from /\n",
            "mapname:  conversion of  failed\n",
            " extracting: code_spm_unigram_40M.model  \n",
            " extracting: code_spm_unigram_40M.vocab  \n",
            "--2020-11-10 21:18:58--  https://www.dropbox.com/sh/9ua4fa2sj1m6jla/AAA0mHkL9MY_FLNbiyloo6xaa?dl=1\n",
            "Resolving www.dropbox.com (www.dropbox.com)... 162.125.5.1, 2620:100:601d:1::a27d:501\n",
            "Connecting to www.dropbox.com (www.dropbox.com)|162.125.5.1|:443... connected.\n",
            "HTTP request sent, awaiting response... 301 Moved Permanently\n",
            "Location: /sh/dl/9ua4fa2sj1m6jla/AAA0mHkL9MY_FLNbiyloo6xaa [following]\n",
            "--2020-11-10 21:18:58--  https://www.dropbox.com/sh/dl/9ua4fa2sj1m6jla/AAA0mHkL9MY_FLNbiyloo6xaa\n",
            "Reusing existing connection to www.dropbox.com:443.\n",
            "HTTP request sent, awaiting response... 302 Found\n",
            "Location: https://uc6b82c0d4bd7a7fd917650cc011.dl.dropboxusercontent.com/zip_download_get/AmUyf9IJECfKTOKsc8murWqCuLFn_2E2bl_hGcQluzMrLzVNZeSww4RTijTYq0ofBZmBNVgSgqJpGfrvZNsraOkMjCyyz2y9dxZiGR-6Lkw0Cg?dl=1 [following]\n",
            "--2020-11-10 21:18:59--  https://uc6b82c0d4bd7a7fd917650cc011.dl.dropboxusercontent.com/zip_download_get/AmUyf9IJECfKTOKsc8murWqCuLFn_2E2bl_hGcQluzMrLzVNZeSww4RTijTYq0ofBZmBNVgSgqJpGfrvZNsraOkMjCyyz2y9dxZiGR-6Lkw0Cg?dl=1\n",
            "Resolving uc6b82c0d4bd7a7fd917650cc011.dl.dropboxusercontent.com (uc6b82c0d4bd7a7fd917650cc011.dl.dropboxusercontent.com)... 162.125.5.15, 2620:100:601d:15::a27d:50f\n",
            "Connecting to uc6b82c0d4bd7a7fd917650cc011.dl.dropboxusercontent.com (uc6b82c0d4bd7a7fd917650cc011.dl.dropboxusercontent.com)|162.125.5.15|:443... connected.\n",
            "HTTP request sent, awaiting response... 200 OK\n",
            "Length: 653176035 (623M) [application/zip]\n",
            "Saving to: ‘sql.zip’\n",
            "\n",
            "sql.zip             100%[===================>] 622.92M  66.0MB/s    in 11s     \n",
            "\n",
            "2020-11-10 21:19:11 (58.3 MB/s) - ‘sql.zip’ saved [653176035/653176035]\n",
            "\n",
            "Archive:  sql.zip\n",
            "warning:  stripped absolute path spec from /\n",
            "mapname:  conversion of  failed\n",
            "   creating: base/\n",
            "   creating: small/\n",
            " extracting: base/command            \n",
            " extracting: small/command           \n",
            " extracting: base/command.1          \n",
            " extracting: base/checkpoint         \n",
            " extracting: small/command.1         \n",
            " extracting: small/checkpoint        \n",
            " extracting: base/graph.pbtxt        \n",
            " extracting: small/graph.pbtxt       \n",
            " extracting: base/t5_code_tasks.py   \n",
            " extracting: small/t5_code_tasks.py  \n",
            " extracting: base/model.ckpt-500.meta  \n",
            " extracting: base/model.ckpt-500.index  \n",
            " extracting: base/operative_config.gin  \n",
            " extracting: small/model.ckpt-500.meta  \n",
            " extracting: small/model.ckpt-500.index  \n",
            " extracting: small/operative_config.gin  \n",
            " extracting: base/model.ckpt-500.data-00000-of-00002  \n",
            " extracting: base/model.ckpt-500.data-00001-of-00002  \n",
            " extracting: small/model.ckpt-500.data-00001-of-00002  \n",
            " extracting: small/model.ckpt-500.data-00000-of-00002  \n"
          ],
          "name": "stdout"
        }
      ]
    },
    {
      "cell_type": "markdown",
      "metadata": {
        "id": "MbW4aF7hHosN"
      },
      "source": [
        "## Set sentencepiece model"
      ]
    },
    {
      "cell_type": "code",
      "metadata": {
        "id": "-0SXWeKu9B5U",
        "outputId": "c7c32685-51ab-4e21-9c12-4e73d8e97de6",
        "colab": {
          "base_uri": "https://localhost:8080/"
        }
      },
      "source": [
        "from t5.data.sentencepiece_vocabulary import SentencePieceVocabulary\n",
        "\n",
        "vocab_model_path = 'code_spm_unigram_40M.model'\n",
        "vocab = SentencePieceVocabulary(vocab_model_path, extra_ids=100)\n",
        "\n",
        "print(\"Vocab has a size of %d\\n\" % vocab.vocab_size)"
      ],
      "execution_count": 154,
      "outputs": [
        {
          "output_type": "stream",
          "text": [
            "Vocab has a size of 32100\n",
            "\n"
          ],
          "name": "stdout"
        }
      ]
    },
    {
      "cell_type": "markdown",
      "metadata": {
        "id": "7VpxgigMIGbv"
      },
      "source": [
        "## Set the preprocessors and the task registry for the t5 model"
      ]
    },
    {
      "cell_type": "code",
      "metadata": {
        "id": "meFeWitk-TE3"
      },
      "source": [
        "def sql_sourceSum_dataset_fn(split, shuffle_files=True):\n",
        "    del shuffle_files\n",
        "\n",
        "    ds = tf.data.TextLineDataset(sql_path[split])\n",
        "    ds = ds.map(\n",
        "        functools.partial(tf.io.decode_csv, record_defaults=[\"\", \"\"], field_delim=\"\\t\", use_quote_delim=False),\n",
        "        num_parallel_calls=tf.data.experimental.AUTOTUNE\n",
        "    )\n",
        "    ds = ds.map(lambda *ex: dict(zip([\"code\", \"docstring\"], ex)))\n",
        "    return ds\n",
        "\n",
        "\n",
        "def sql_preprocessor(ds):\n",
        "    def normalize_text(text):\n",
        "        return text\n",
        "\n",
        "    def to_inputs_and_targets(ex):\n",
        "        return {\n",
        "            \"inputs\": tf.strings.join([\"source code summarization sql: \", normalize_text(ex[\"code\"])]),\n",
        "            \"targets\": normalize_text(ex[\"docstring\"])\n",
        "        }\n",
        "\n",
        "    return ds.map(to_inputs_and_targets, num_parallel_calls=tf.data.experimental.AUTOTUNE)\n",
        "\n",
        "\n",
        "t5.data.TaskRegistry.remove('sourcesum_sql_code')\n",
        "t5.data.TaskRegistry.add(\n",
        "    \"sourcesum_sql_code\",\n",
        "    dataset_fn=sql_sourceSum_dataset_fn,\n",
        "    output_features={\n",
        "        \"inputs\": t5.data.utils.Feature(vocabulary=vocab),\n",
        "        \"targets\": t5.data.utils.Feature(vocabulary=vocab),\n",
        "    },\n",
        "    splits=[\"train\", \"validation\"],\n",
        "    text_preprocessor=[sql_preprocessor],\n",
        "    postprocess_fn=t5.data.postprocessors.lower_text,\n",
        "    metric_fns=[t5.evaluation.metrics.bleu, t5.evaluation.metrics.accuracy, t5.evaluation.metrics.rouge],\n",
        ")"
      ],
      "execution_count": 155,
      "outputs": []
    },
    {
      "cell_type": "markdown",
      "metadata": {
        "id": "sjZN7C7wISzq"
      },
      "source": [
        "## Set t5 small model"
      ]
    },
    {
      "cell_type": "code",
      "metadata": {
        "id": "EWBKPR24BweX"
      },
      "source": [
        "MODEL_DIR = \"small\"\n",
        "model_parallelism = 1\n",
        "train_batch_size = 256\n",
        "\n",
        "tf.io.gfile.makedirs(MODEL_DIR)\n",
        "model = t5.models.MtfModel(\n",
        "    model_dir=MODEL_DIR,\n",
        "    tpu=None,\n",
        "    tpu_topology=None,\n",
        "    model_parallelism=model_parallelism,\n",
        "    batch_size=train_batch_size,\n",
        "    sequence_length={\"inputs\": 512, \"targets\": 512},\n",
        "    mesh_shape=\"model:1,batch:1\",\n",
        "    mesh_devices=[\"GPU:0\"],\n",
        "    learning_rate_schedule=0.003,\n",
        "    save_checkpoints_steps=500,\n",
        "    keep_checkpoint_max=None,\n",
        "    iterations_per_loop=100,\n",
        ")"
      ],
      "execution_count": 156,
      "outputs": []
    },
    {
      "cell_type": "markdown",
      "metadata": {
        "id": "yEE3ZQt5I3Jt"
      },
      "source": [
        "## Code Documentation Summarization"
      ]
    },
    {
      "cell_type": "markdown",
      "metadata": {
        "id": "hkynwKIcEvHh"
      },
      "source": [
        "### Give the code for summarization"
      ]
    },
    {
      "cell_type": "code",
      "metadata": {
        "id": "nld-UUmII-2e"
      },
      "source": [
        "code = \"select time (fieldname) from tablename\" #@param {type:\"raw\"}\n"
      ],
      "execution_count": 157,
      "outputs": []
    },
    {
      "cell_type": "markdown",
      "metadata": {
        "id": "AzkwpHTSvfzw"
      },
      "source": [
        "### Parsing and Tokenization"
      ]
    },
    {
      "cell_type": "code",
      "metadata": {
        "id": "mSr4ADegioNS"
      },
      "source": [
        "import re\n",
        "import sqlparse\n",
        "\n",
        "scanner=re.Scanner([\n",
        "  (r\"\\[[^\\]]*\\]\",       lambda scanner,token: token),\n",
        "  (r\"\\+\",      lambda scanner,token:\"R_PLUS\"),\n",
        "  (r\"\\*\",        lambda scanner,token:\"R_KLEENE\"),\n",
        "  (r\"%\",        lambda scanner,token:\"R_WILD\"),\n",
        "  (r\"\\^\",        lambda scanner,token:\"R_START\"),\n",
        "  (r\"\\$\",        lambda scanner,token:\"R_END\"),\n",
        "  (r\"\\?\",        lambda scanner,token:\"R_QUESTION\"),\n",
        "  (r\"[\\.~``;_a-zA-Z0-9\\s=:\\{\\}\\-\\\\]+\", lambda scanner,token:\"R_FREE\"),\n",
        "  (r'.', lambda scanner, token: None),\n",
        "])\n",
        "\n",
        "def tokenizeRegex(s):\n",
        "  results, remainder=scanner.scan(s)\n",
        "  return results\n",
        "\n",
        "def my_traverse(token_list, statement_list, result_list):\n",
        "  for t in token_list:\n",
        "    if t.ttype == None:\n",
        "      my_traverse(t, statement_list, result_list)\n",
        "    elif t.ttype != sqlparse.tokens.Whitespace:\n",
        "      statement_list.append(t.ttype)\n",
        "      result_list.append(str(t))\n",
        "  return statement_list, result_list\n",
        "\n",
        "def sanitizeSql(sql):\n",
        "  s = sql.strip().lower()\n",
        "  if not s[-1] == \";\":\n",
        "    s += ';'\n",
        "  s = re.sub(r'\\(', r' ( ', s)\n",
        "  s = re.sub(r'\\)', r' ) ', s)\n",
        "  s = s.replace('#', '')\n",
        "  return s"
      ],
      "execution_count": 158,
      "outputs": []
    },
    {
      "cell_type": "code",
      "metadata": {
        "id": "eCRaCT2ThSHh",
        "outputId": "af06aba7-f341-4158-fcc7-677353c9a6d3",
        "colab": {
          "base_uri": "https://localhost:8080/"
        }
      },
      "source": [
        "statement_list = []\n",
        "result_list = []\n",
        "code = sanitizeSql(code)\n",
        "tokens = sqlparse.parse(code)\n",
        "statements, result = my_traverse(tokens, statement_list, result_list)\n",
        "\n",
        "table_map = {}\n",
        "column_map = {}\n",
        "for i in range(len(statements)):\n",
        "  if statements[i] in [sqlparse.tokens.Number.Integer, sqlparse.tokens.Literal.Number.Integer]:\n",
        "    result[i] = \"CODE_INTEGER\"\n",
        "  elif statements[i] in [sqlparse.tokens.Number.Float, sqlparse.tokens.Literal.Number.Float]:\n",
        "    result[i] = \"CODE_FLOAT\"\n",
        "  elif statements[i] in [sqlparse.tokens.Number.Hexadecimal, sqlparse.tokens.Literal.Number.Hexadecimal]:\n",
        "    result[i] = \"CODE_HEX\"\n",
        "  elif statements[i] in [sqlparse.tokens.String.Symbol, sqlparse.tokens.String.Single, sqlparse.tokens.Literal.String.Single, sqlparse.tokens.Literal.String.Symbol]:\n",
        "    result[i] = tokenizeRegex(result[i])\n",
        "  elif statements[i] in[sqlparse.tokens.Name, sqlparse.tokens.Name.Placeholder, sqlparse.sql.Identifier]:\n",
        "    old_value = result[i]\n",
        "    if old_value in column_map:\n",
        "      result[i] = column_map[old_value]\n",
        "    else:\n",
        "      result[i] = 'col'+ str(len(column_map))\n",
        "      column_map[old_value] = result[i]\n",
        "  elif (result[i] == \".\" and statements[i] == sqlparse.tokens.Punctuation and i > 0 and result[i-1].startswith('col')):\n",
        "    old_value = result[i-1]\n",
        "    if old_value in table_map:\n",
        "      result[i-1] = table_map[old_value]\n",
        "    else:\n",
        "      result[i-1] = 'tab'+ str(len(table_map))\n",
        "      table_map[old_value] = result[i-1]\n",
        "  if (result[i].startswith('col') and i > 0 and (result[i-1] in [\"from\"])):\n",
        "    old_value = result[i]\n",
        "    if old_value in table_map:\n",
        "      result[i] = table_map[old_value]\n",
        "    else:\n",
        "      result[i] = 'tab'+ str(len(table_map))\n",
        "      table_map[old_value] = result[i]\n",
        "\n",
        "tokenized_code = ' '.join(result)\n",
        "print(\"SQL after tokenized: \" + tokenized_code)"
      ],
      "execution_count": 159,
      "outputs": [
        {
          "output_type": "stream",
          "text": [
            "SQL after tokenized: select time ( col0 ) from tab0 ;\n"
          ],
          "name": "stdout"
        }
      ]
    },
    {
      "cell_type": "markdown",
      "metadata": {
        "id": "iUGjYiWzJSu0"
      },
      "source": [
        "### Record the code for summarization with the prefix to a txt file"
      ]
    },
    {
      "cell_type": "code",
      "metadata": {
        "id": "UCGjrieBJck1"
      },
      "source": [
        "codes = [tokenized_code]\n",
        "\n",
        "inputs_path = 'input.txt'\n",
        "with tf.io.gfile.GFile(inputs_path, \"w\") as f:\n",
        "  for c in codes:\n",
        "    f.write(\"source code summarization sql: %s\\n\" % c)\n",
        "\n",
        "predict_outputs_path = 'MtfModel-output.txt'\n"
      ],
      "execution_count": 160,
      "outputs": []
    },
    {
      "cell_type": "markdown",
      "metadata": {
        "id": "PK_kyR4VJlha"
      },
      "source": [
        "### Running the model with the best checkpoint to summarize the given code"
      ]
    },
    {
      "cell_type": "code",
      "metadata": {
        "id": "cdThL03VDNX3",
        "outputId": "5791b6dd-f3ee-4c9e-b890-52ce89c9807f",
        "colab": {
          "base_uri": "https://localhost:8080/"
        }
      },
      "source": [
        "model.batch_size = 8  # Min size for small model on v2-8 with parallelism 1.\n",
        "model.predict(\n",
        "    input_file=\"input.txt\",\n",
        "    output_file=predict_outputs_path,\n",
        "    checkpoint_steps=500,\n",
        "    beam_size=4,\n",
        "    vocabulary=vocab, \n",
        "    # Select the most probable output token at each step.\n",
        "    temperature=0,\n",
        ")"
      ],
      "execution_count": 161,
      "outputs": [
        {
          "output_type": "stream",
          "text": [
            "INFO:tensorflow:Using config: {'_model_dir': 'small', '_tf_random_seed': None, '_save_summary_steps': 100, '_save_checkpoints_steps': None, '_save_checkpoints_secs': None, '_session_config': allow_soft_placement: true\n",
            "graph_options {\n",
            "  rewrite_options {\n",
            "    meta_optimizer_iterations: ONE\n",
            "  }\n",
            "}\n",
            ", '_keep_checkpoint_max': 5, '_keep_checkpoint_every_n_hours': 10000, '_log_step_count_steps': None, '_train_distribute': None, '_device_fn': None, '_protocol': None, '_eval_distribute': None, '_experimental_distribute': None, '_experimental_max_worker_delay_secs': None, '_session_creation_timeout_secs': 7200, '_service': None, '_cluster_spec': ClusterSpec({}), '_task_type': 'worker', '_task_id': 0, '_global_id_in_cluster': 0, '_master': '', '_evaluation_master': '', '_is_chief': True, '_num_ps_replicas': 0, '_num_worker_replicas': 1, '_tpu_config': TPUConfig(iterations_per_loop=100, num_shards=None, num_cores_per_replica=1, per_host_input_for_training=4, tpu_job_name=None, initial_infeed_sleep_secs=None, input_partition_dims=None, eval_training_input_configuration=2, experimental_host_call_every_n_steps=1), '_cluster': None}\n",
            "INFO:tensorflow:_TPUContext: eval_on_tpu True\n",
            "WARNING:tensorflow:eval_on_tpu ignored because use_tpu is False.\n",
            "INFO:tensorflow:Calling model_fn.\n",
            "INFO:tensorflow:Running infer on CPU/GPU\n",
            "INFO:tensorflow:feature inputs : Tensor(\"Reshape:0\", shape=(8, 512), dtype=int32)\n",
            "WARNING:tensorflow:Using default tf glorot_uniform_initializer for variable encoder/block_000/layer_000/SelfAttention/relative_attention_bias  The initialzer will guess the input and output dimensions  based on dimension order.\n",
            "WARNING:tensorflow:Using default tf glorot_uniform_initializer for variable decoder/block_000/layer_000/SelfAttention/relative_attention_bias  The initialzer will guess the input and output dimensions  based on dimension order.\n",
            "WARNING:tensorflow:Using default tf glorot_uniform_initializer for variable decoder/block_000/layer_000/SelfAttention/relative_attention_bias  The initialzer will guess the input and output dimensions  based on dimension order.\n",
            "INFO:tensorflow:Variable decoder/block_000/layer_000/SelfAttention/k                  size 262144       slice_size 262144       Shape[d_model=512, heads=512]                               \n",
            "INFO:tensorflow:Variable decoder/block_000/layer_000/SelfAttention/o                  size 262144       slice_size 262144       Shape[heads=512, d_model=512]                               \n",
            "INFO:tensorflow:Variable decoder/block_000/layer_000/SelfAttention/q                  size 262144       slice_size 262144       Shape[d_model=512, heads=512]                               \n",
            "INFO:tensorflow:Variable decoder/block_000/layer_000/SelfAttention/relative_attention_bias size 256          slice_size 256          Shape[heads=8, buckets=32]                                  \n",
            "INFO:tensorflow:Variable decoder/block_000/layer_000/SelfAttention/v                  size 262144       slice_size 262144       Shape[d_model=512, heads=512]                               \n",
            "INFO:tensorflow:Variable decoder/block_000/layer_000/rms_norm/scale                   size 512          slice_size 512          Shape[d_model=512]                                          \n",
            "INFO:tensorflow:Variable decoder/block_000/layer_001/EncDecAttention/k                size 262144       slice_size 262144       Shape[d_model=512, heads=512]                               \n",
            "INFO:tensorflow:Variable decoder/block_000/layer_001/EncDecAttention/o                size 262144       slice_size 262144       Shape[heads=512, d_model=512]                               \n",
            "INFO:tensorflow:Variable decoder/block_000/layer_001/EncDecAttention/q                size 262144       slice_size 262144       Shape[d_model=512, heads=512]                               \n",
            "INFO:tensorflow:Variable decoder/block_000/layer_001/EncDecAttention/v                size 262144       slice_size 262144       Shape[d_model=512, heads=512]                               \n",
            "INFO:tensorflow:Variable decoder/block_000/layer_001/rms_norm/scale                   size 512          slice_size 512          Shape[d_model=512]                                          \n",
            "INFO:tensorflow:Variable decoder/block_000/layer_002/DenseReluDense/wi/kernel         size 1048576      slice_size 1048576      Shape[d_model=512, d_ff=2048]                               \n",
            "INFO:tensorflow:Variable decoder/block_000/layer_002/DenseReluDense/wo/kernel         size 1048576      slice_size 1048576      Shape[d_ff=2048, d_model=512]                               \n",
            "INFO:tensorflow:Variable decoder/block_000/layer_002/rms_norm/scale                   size 512          slice_size 512          Shape[d_model=512]                                          \n",
            "INFO:tensorflow:Variable decoder/block_001/layer_000/SelfAttention/k                  size 262144       slice_size 262144       Shape[d_model=512, heads=512]                               \n",
            "INFO:tensorflow:Variable decoder/block_001/layer_000/SelfAttention/o                  size 262144       slice_size 262144       Shape[heads=512, d_model=512]                               \n",
            "INFO:tensorflow:Variable decoder/block_001/layer_000/SelfAttention/q                  size 262144       slice_size 262144       Shape[d_model=512, heads=512]                               \n",
            "INFO:tensorflow:Variable decoder/block_001/layer_000/SelfAttention/v                  size 262144       slice_size 262144       Shape[d_model=512, heads=512]                               \n",
            "INFO:tensorflow:Variable decoder/block_001/layer_000/rms_norm/scale                   size 512          slice_size 512          Shape[d_model=512]                                          \n",
            "INFO:tensorflow:Variable decoder/block_001/layer_001/EncDecAttention/k                size 262144       slice_size 262144       Shape[d_model=512, heads=512]                               \n",
            "INFO:tensorflow:Variable decoder/block_001/layer_001/EncDecAttention/o                size 262144       slice_size 262144       Shape[heads=512, d_model=512]                               \n",
            "INFO:tensorflow:Variable decoder/block_001/layer_001/EncDecAttention/q                size 262144       slice_size 262144       Shape[d_model=512, heads=512]                               \n",
            "INFO:tensorflow:Variable decoder/block_001/layer_001/EncDecAttention/v                size 262144       slice_size 262144       Shape[d_model=512, heads=512]                               \n",
            "INFO:tensorflow:Variable decoder/block_001/layer_001/rms_norm/scale                   size 512          slice_size 512          Shape[d_model=512]                                          \n",
            "INFO:tensorflow:Variable decoder/block_001/layer_002/DenseReluDense/wi/kernel         size 1048576      slice_size 1048576      Shape[d_model=512, d_ff=2048]                               \n",
            "INFO:tensorflow:Variable decoder/block_001/layer_002/DenseReluDense/wo/kernel         size 1048576      slice_size 1048576      Shape[d_ff=2048, d_model=512]                               \n",
            "INFO:tensorflow:Variable decoder/block_001/layer_002/rms_norm/scale                   size 512          slice_size 512          Shape[d_model=512]                                          \n",
            "INFO:tensorflow:Variable decoder/block_002/layer_000/SelfAttention/k                  size 262144       slice_size 262144       Shape[d_model=512, heads=512]                               \n",
            "INFO:tensorflow:Variable decoder/block_002/layer_000/SelfAttention/o                  size 262144       slice_size 262144       Shape[heads=512, d_model=512]                               \n",
            "INFO:tensorflow:Variable decoder/block_002/layer_000/SelfAttention/q                  size 262144       slice_size 262144       Shape[d_model=512, heads=512]                               \n",
            "INFO:tensorflow:Variable decoder/block_002/layer_000/SelfAttention/v                  size 262144       slice_size 262144       Shape[d_model=512, heads=512]                               \n",
            "INFO:tensorflow:Variable decoder/block_002/layer_000/rms_norm/scale                   size 512          slice_size 512          Shape[d_model=512]                                          \n",
            "INFO:tensorflow:Variable decoder/block_002/layer_001/EncDecAttention/k                size 262144       slice_size 262144       Shape[d_model=512, heads=512]                               \n",
            "INFO:tensorflow:Variable decoder/block_002/layer_001/EncDecAttention/o                size 262144       slice_size 262144       Shape[heads=512, d_model=512]                               \n",
            "INFO:tensorflow:Variable decoder/block_002/layer_001/EncDecAttention/q                size 262144       slice_size 262144       Shape[d_model=512, heads=512]                               \n",
            "INFO:tensorflow:Variable decoder/block_002/layer_001/EncDecAttention/v                size 262144       slice_size 262144       Shape[d_model=512, heads=512]                               \n",
            "INFO:tensorflow:Variable decoder/block_002/layer_001/rms_norm/scale                   size 512          slice_size 512          Shape[d_model=512]                                          \n",
            "INFO:tensorflow:Variable decoder/block_002/layer_002/DenseReluDense/wi/kernel         size 1048576      slice_size 1048576      Shape[d_model=512, d_ff=2048]                               \n",
            "INFO:tensorflow:Variable decoder/block_002/layer_002/DenseReluDense/wo/kernel         size 1048576      slice_size 1048576      Shape[d_ff=2048, d_model=512]                               \n",
            "INFO:tensorflow:Variable decoder/block_002/layer_002/rms_norm/scale                   size 512          slice_size 512          Shape[d_model=512]                                          \n",
            "INFO:tensorflow:Variable decoder/block_003/layer_000/SelfAttention/k                  size 262144       slice_size 262144       Shape[d_model=512, heads=512]                               \n",
            "INFO:tensorflow:Variable decoder/block_003/layer_000/SelfAttention/o                  size 262144       slice_size 262144       Shape[heads=512, d_model=512]                               \n",
            "INFO:tensorflow:Variable decoder/block_003/layer_000/SelfAttention/q                  size 262144       slice_size 262144       Shape[d_model=512, heads=512]                               \n",
            "INFO:tensorflow:Variable decoder/block_003/layer_000/SelfAttention/v                  size 262144       slice_size 262144       Shape[d_model=512, heads=512]                               \n",
            "INFO:tensorflow:Variable decoder/block_003/layer_000/rms_norm/scale                   size 512          slice_size 512          Shape[d_model=512]                                          \n",
            "INFO:tensorflow:Variable decoder/block_003/layer_001/EncDecAttention/k                size 262144       slice_size 262144       Shape[d_model=512, heads=512]                               \n",
            "INFO:tensorflow:Variable decoder/block_003/layer_001/EncDecAttention/o                size 262144       slice_size 262144       Shape[heads=512, d_model=512]                               \n",
            "INFO:tensorflow:Variable decoder/block_003/layer_001/EncDecAttention/q                size 262144       slice_size 262144       Shape[d_model=512, heads=512]                               \n",
            "INFO:tensorflow:Variable decoder/block_003/layer_001/EncDecAttention/v                size 262144       slice_size 262144       Shape[d_model=512, heads=512]                               \n",
            "INFO:tensorflow:Variable decoder/block_003/layer_001/rms_norm/scale                   size 512          slice_size 512          Shape[d_model=512]                                          \n",
            "INFO:tensorflow:Variable decoder/block_003/layer_002/DenseReluDense/wi/kernel         size 1048576      slice_size 1048576      Shape[d_model=512, d_ff=2048]                               \n",
            "INFO:tensorflow:Variable decoder/block_003/layer_002/DenseReluDense/wo/kernel         size 1048576      slice_size 1048576      Shape[d_ff=2048, d_model=512]                               \n",
            "INFO:tensorflow:Variable decoder/block_003/layer_002/rms_norm/scale                   size 512          slice_size 512          Shape[d_model=512]                                          \n",
            "INFO:tensorflow:Variable decoder/block_004/layer_000/SelfAttention/k                  size 262144       slice_size 262144       Shape[d_model=512, heads=512]                               \n",
            "INFO:tensorflow:Variable decoder/block_004/layer_000/SelfAttention/o                  size 262144       slice_size 262144       Shape[heads=512, d_model=512]                               \n",
            "INFO:tensorflow:Variable decoder/block_004/layer_000/SelfAttention/q                  size 262144       slice_size 262144       Shape[d_model=512, heads=512]                               \n",
            "INFO:tensorflow:Variable decoder/block_004/layer_000/SelfAttention/v                  size 262144       slice_size 262144       Shape[d_model=512, heads=512]                               \n",
            "INFO:tensorflow:Variable decoder/block_004/layer_000/rms_norm/scale                   size 512          slice_size 512          Shape[d_model=512]                                          \n",
            "INFO:tensorflow:Variable decoder/block_004/layer_001/EncDecAttention/k                size 262144       slice_size 262144       Shape[d_model=512, heads=512]                               \n",
            "INFO:tensorflow:Variable decoder/block_004/layer_001/EncDecAttention/o                size 262144       slice_size 262144       Shape[heads=512, d_model=512]                               \n",
            "INFO:tensorflow:Variable decoder/block_004/layer_001/EncDecAttention/q                size 262144       slice_size 262144       Shape[d_model=512, heads=512]                               \n",
            "INFO:tensorflow:Variable decoder/block_004/layer_001/EncDecAttention/v                size 262144       slice_size 262144       Shape[d_model=512, heads=512]                               \n",
            "INFO:tensorflow:Variable decoder/block_004/layer_001/rms_norm/scale                   size 512          slice_size 512          Shape[d_model=512]                                          \n",
            "INFO:tensorflow:Variable decoder/block_004/layer_002/DenseReluDense/wi/kernel         size 1048576      slice_size 1048576      Shape[d_model=512, d_ff=2048]                               \n",
            "INFO:tensorflow:Variable decoder/block_004/layer_002/DenseReluDense/wo/kernel         size 1048576      slice_size 1048576      Shape[d_ff=2048, d_model=512]                               \n",
            "INFO:tensorflow:Variable decoder/block_004/layer_002/rms_norm/scale                   size 512          slice_size 512          Shape[d_model=512]                                          \n",
            "INFO:tensorflow:Variable decoder/block_005/layer_000/SelfAttention/k                  size 262144       slice_size 262144       Shape[d_model=512, heads=512]                               \n",
            "INFO:tensorflow:Variable decoder/block_005/layer_000/SelfAttention/o                  size 262144       slice_size 262144       Shape[heads=512, d_model=512]                               \n",
            "INFO:tensorflow:Variable decoder/block_005/layer_000/SelfAttention/q                  size 262144       slice_size 262144       Shape[d_model=512, heads=512]                               \n",
            "INFO:tensorflow:Variable decoder/block_005/layer_000/SelfAttention/v                  size 262144       slice_size 262144       Shape[d_model=512, heads=512]                               \n",
            "INFO:tensorflow:Variable decoder/block_005/layer_000/rms_norm/scale                   size 512          slice_size 512          Shape[d_model=512]                                          \n",
            "INFO:tensorflow:Variable decoder/block_005/layer_001/EncDecAttention/k                size 262144       slice_size 262144       Shape[d_model=512, heads=512]                               \n",
            "INFO:tensorflow:Variable decoder/block_005/layer_001/EncDecAttention/o                size 262144       slice_size 262144       Shape[heads=512, d_model=512]                               \n",
            "INFO:tensorflow:Variable decoder/block_005/layer_001/EncDecAttention/q                size 262144       slice_size 262144       Shape[d_model=512, heads=512]                               \n",
            "INFO:tensorflow:Variable decoder/block_005/layer_001/EncDecAttention/v                size 262144       slice_size 262144       Shape[d_model=512, heads=512]                               \n",
            "INFO:tensorflow:Variable decoder/block_005/layer_001/rms_norm/scale                   size 512          slice_size 512          Shape[d_model=512]                                          \n",
            "INFO:tensorflow:Variable decoder/block_005/layer_002/DenseReluDense/wi/kernel         size 1048576      slice_size 1048576      Shape[d_model=512, d_ff=2048]                               \n",
            "INFO:tensorflow:Variable decoder/block_005/layer_002/DenseReluDense/wo/kernel         size 1048576      slice_size 1048576      Shape[d_ff=2048, d_model=512]                               \n",
            "INFO:tensorflow:Variable decoder/block_005/layer_002/rms_norm/scale                   size 512          slice_size 512          Shape[d_model=512]                                          \n",
            "INFO:tensorflow:Variable decoder/rms_norm/scale                                       size 512          slice_size 512          Shape[d_model=512]                                          \n",
            "INFO:tensorflow:Variable encoder/block_000/layer_000/SelfAttention/k                  size 262144       slice_size 262144       Shape[d_model=512, heads=512]                               \n",
            "INFO:tensorflow:Variable encoder/block_000/layer_000/SelfAttention/o                  size 262144       slice_size 262144       Shape[heads=512, d_model=512]                               \n",
            "INFO:tensorflow:Variable encoder/block_000/layer_000/SelfAttention/q                  size 262144       slice_size 262144       Shape[d_model=512, heads=512]                               \n",
            "INFO:tensorflow:Variable encoder/block_000/layer_000/SelfAttention/relative_attention_bias size 256          slice_size 256          Shape[heads=8, buckets=32]                                  \n",
            "INFO:tensorflow:Variable encoder/block_000/layer_000/SelfAttention/v                  size 262144       slice_size 262144       Shape[d_model=512, heads=512]                               \n",
            "INFO:tensorflow:Variable encoder/block_000/layer_000/rms_norm/scale                   size 512          slice_size 512          Shape[d_model=512]                                          \n",
            "INFO:tensorflow:Variable encoder/block_000/layer_001/DenseReluDense/wi/kernel         size 1048576      slice_size 1048576      Shape[d_model=512, d_ff=2048]                               \n",
            "INFO:tensorflow:Variable encoder/block_000/layer_001/DenseReluDense/wo/kernel         size 1048576      slice_size 1048576      Shape[d_ff=2048, d_model=512]                               \n",
            "INFO:tensorflow:Variable encoder/block_000/layer_001/rms_norm/scale                   size 512          slice_size 512          Shape[d_model=512]                                          \n",
            "INFO:tensorflow:Variable encoder/block_001/layer_000/SelfAttention/k                  size 262144       slice_size 262144       Shape[d_model=512, heads=512]                               \n",
            "INFO:tensorflow:Variable encoder/block_001/layer_000/SelfAttention/o                  size 262144       slice_size 262144       Shape[heads=512, d_model=512]                               \n",
            "INFO:tensorflow:Variable encoder/block_001/layer_000/SelfAttention/q                  size 262144       slice_size 262144       Shape[d_model=512, heads=512]                               \n",
            "INFO:tensorflow:Variable encoder/block_001/layer_000/SelfAttention/v                  size 262144       slice_size 262144       Shape[d_model=512, heads=512]                               \n",
            "INFO:tensorflow:Variable encoder/block_001/layer_000/rms_norm/scale                   size 512          slice_size 512          Shape[d_model=512]                                          \n",
            "INFO:tensorflow:Variable encoder/block_001/layer_001/DenseReluDense/wi/kernel         size 1048576      slice_size 1048576      Shape[d_model=512, d_ff=2048]                               \n",
            "INFO:tensorflow:Variable encoder/block_001/layer_001/DenseReluDense/wo/kernel         size 1048576      slice_size 1048576      Shape[d_ff=2048, d_model=512]                               \n",
            "INFO:tensorflow:Variable encoder/block_001/layer_001/rms_norm/scale                   size 512          slice_size 512          Shape[d_model=512]                                          \n",
            "INFO:tensorflow:Variable encoder/block_002/layer_000/SelfAttention/k                  size 262144       slice_size 262144       Shape[d_model=512, heads=512]                               \n",
            "INFO:tensorflow:Variable encoder/block_002/layer_000/SelfAttention/o                  size 262144       slice_size 262144       Shape[heads=512, d_model=512]                               \n",
            "INFO:tensorflow:Variable encoder/block_002/layer_000/SelfAttention/q                  size 262144       slice_size 262144       Shape[d_model=512, heads=512]                               \n",
            "INFO:tensorflow:Variable encoder/block_002/layer_000/SelfAttention/v                  size 262144       slice_size 262144       Shape[d_model=512, heads=512]                               \n",
            "INFO:tensorflow:Variable encoder/block_002/layer_000/rms_norm/scale                   size 512          slice_size 512          Shape[d_model=512]                                          \n",
            "INFO:tensorflow:Variable encoder/block_002/layer_001/DenseReluDense/wi/kernel         size 1048576      slice_size 1048576      Shape[d_model=512, d_ff=2048]                               \n",
            "INFO:tensorflow:Variable encoder/block_002/layer_001/DenseReluDense/wo/kernel         size 1048576      slice_size 1048576      Shape[d_ff=2048, d_model=512]                               \n",
            "INFO:tensorflow:Variable encoder/block_002/layer_001/rms_norm/scale                   size 512          slice_size 512          Shape[d_model=512]                                          \n",
            "INFO:tensorflow:Variable encoder/block_003/layer_000/SelfAttention/k                  size 262144       slice_size 262144       Shape[d_model=512, heads=512]                               \n",
            "INFO:tensorflow:Variable encoder/block_003/layer_000/SelfAttention/o                  size 262144       slice_size 262144       Shape[heads=512, d_model=512]                               \n",
            "INFO:tensorflow:Variable encoder/block_003/layer_000/SelfAttention/q                  size 262144       slice_size 262144       Shape[d_model=512, heads=512]                               \n",
            "INFO:tensorflow:Variable encoder/block_003/layer_000/SelfAttention/v                  size 262144       slice_size 262144       Shape[d_model=512, heads=512]                               \n",
            "INFO:tensorflow:Variable encoder/block_003/layer_000/rms_norm/scale                   size 512          slice_size 512          Shape[d_model=512]                                          \n",
            "INFO:tensorflow:Variable encoder/block_003/layer_001/DenseReluDense/wi/kernel         size 1048576      slice_size 1048576      Shape[d_model=512, d_ff=2048]                               \n",
            "INFO:tensorflow:Variable encoder/block_003/layer_001/DenseReluDense/wo/kernel         size 1048576      slice_size 1048576      Shape[d_ff=2048, d_model=512]                               \n",
            "INFO:tensorflow:Variable encoder/block_003/layer_001/rms_norm/scale                   size 512          slice_size 512          Shape[d_model=512]                                          \n",
            "INFO:tensorflow:Variable encoder/block_004/layer_000/SelfAttention/k                  size 262144       slice_size 262144       Shape[d_model=512, heads=512]                               \n",
            "INFO:tensorflow:Variable encoder/block_004/layer_000/SelfAttention/o                  size 262144       slice_size 262144       Shape[heads=512, d_model=512]                               \n",
            "INFO:tensorflow:Variable encoder/block_004/layer_000/SelfAttention/q                  size 262144       slice_size 262144       Shape[d_model=512, heads=512]                               \n",
            "INFO:tensorflow:Variable encoder/block_004/layer_000/SelfAttention/v                  size 262144       slice_size 262144       Shape[d_model=512, heads=512]                               \n",
            "INFO:tensorflow:Variable encoder/block_004/layer_000/rms_norm/scale                   size 512          slice_size 512          Shape[d_model=512]                                          \n",
            "INFO:tensorflow:Variable encoder/block_004/layer_001/DenseReluDense/wi/kernel         size 1048576      slice_size 1048576      Shape[d_model=512, d_ff=2048]                               \n",
            "INFO:tensorflow:Variable encoder/block_004/layer_001/DenseReluDense/wo/kernel         size 1048576      slice_size 1048576      Shape[d_ff=2048, d_model=512]                               \n",
            "INFO:tensorflow:Variable encoder/block_004/layer_001/rms_norm/scale                   size 512          slice_size 512          Shape[d_model=512]                                          \n",
            "INFO:tensorflow:Variable encoder/block_005/layer_000/SelfAttention/k                  size 262144       slice_size 262144       Shape[d_model=512, heads=512]                               \n",
            "INFO:tensorflow:Variable encoder/block_005/layer_000/SelfAttention/o                  size 262144       slice_size 262144       Shape[heads=512, d_model=512]                               \n",
            "INFO:tensorflow:Variable encoder/block_005/layer_000/SelfAttention/q                  size 262144       slice_size 262144       Shape[d_model=512, heads=512]                               \n",
            "INFO:tensorflow:Variable encoder/block_005/layer_000/SelfAttention/v                  size 262144       slice_size 262144       Shape[d_model=512, heads=512]                               \n",
            "INFO:tensorflow:Variable encoder/block_005/layer_000/rms_norm/scale                   size 512          slice_size 512          Shape[d_model=512]                                          \n",
            "INFO:tensorflow:Variable encoder/block_005/layer_001/DenseReluDense/wi/kernel         size 1048576      slice_size 1048576      Shape[d_model=512, d_ff=2048]                               \n",
            "INFO:tensorflow:Variable encoder/block_005/layer_001/DenseReluDense/wo/kernel         size 1048576      slice_size 1048576      Shape[d_ff=2048, d_model=512]                               \n",
            "INFO:tensorflow:Variable encoder/block_005/layer_001/rms_norm/scale                   size 512          slice_size 512          Shape[d_model=512]                                          \n",
            "INFO:tensorflow:Variable encoder/rms_norm/scale                                       size 512          slice_size 512          Shape[d_model=512]                                          \n",
            "INFO:tensorflow:Variable shared/embedding                                             size 16449536     slice_size 16449536     Shape[vocab=32128, d_model=512]                             \n",
            "INFO:tensorflow:Trainable Variables            count: 131     Total size: 60506624         Total slice_size: 60506624       \n",
            "INFO:tensorflow:All Variables                  count: 131     Total size: 60506624         Total slice_size: 60506624       \n",
            "INFO:tensorflow:Counters:\n",
            "allconcat: 8.32e+03\n",
            " allconcat/0: 128\n",
            "  allconcat/0/reshape_op: 128\n",
            " allconcat/1: 8.19e+03\n",
            "  allconcat/1/reshape_op: 8.19e+03\n",
            "allreduce: 1.87e+08\n",
            " allreduce/[0]: 1.87e+08\n",
            "  allreduce/[0]/einsum_op: 1.87e+08\n",
            "  allreduce/[0]/reduce_op: 64\n",
            " allreduce/[1]: 2\n",
            "  allreduce/[1]/reduce_op: 2\n",
            "einsum: 1.18e+12\n",
            "einsum_unique: 1.18e+12\n",
            "output: 1.08e+10\n",
            " output/AddOperation: 3.02e+09\n",
            " output/BinaryOpWithBroadcasting: 1.9e+07\n",
            " output/BroadcastOperation: 32\n",
            " output/Constant: 1.01e+08\n",
            " output/EinsumOperation: 2.8e+09\n",
            " output/ImportOperation: 4.15e+03\n",
            " output/MinMaxOperation: 4.72e+06\n",
            " output/OneHotOperation: 7.59e+08\n",
            " output/RangeOperation: 1.02e+03\n",
            " output/ReduceOperation: 3.9e+06\n",
            " output/ReshapeOperation: 6.56e+08\n",
            " output/ScalarAddOperation: 6.66e+06\n",
            " output/ScalarMultiplyOperation: 3.39e+07\n",
            " output/ShiftOperation: 1.64e+04\n",
            " output/SlicewiseOperation: 2.31e+09\n",
            " output/StopGradient: 9.06e+08\n",
            " output/Variable: 6.05e+07\n",
            " output/WhileLoopOperation: 1.01e+08\n",
            "output_unique: 1.08e+10\n",
            " output_unique/AddOperation: 3.02e+09\n",
            " output_unique/BinaryOpWithBroadcasting: 1.9e+07\n",
            " output_unique/BroadcastOperation: 32\n",
            " output_unique/Constant: 1.01e+08\n",
            " output_unique/EinsumOperation: 2.8e+09\n",
            " output_unique/ImportOperation: 4.15e+03\n",
            " output_unique/MinMaxOperation: 4.72e+06\n",
            " output_unique/OneHotOperation: 7.59e+08\n",
            " output_unique/RangeOperation: 1.02e+03\n",
            " output_unique/ReduceOperation: 3.9e+06\n",
            " output_unique/ReshapeOperation: 6.56e+08\n",
            " output_unique/ScalarAddOperation: 6.66e+06\n",
            " output_unique/ScalarMultiplyOperation: 3.39e+07\n",
            " output_unique/ShiftOperation: 1.64e+04\n",
            " output_unique/SlicewiseOperation: 2.31e+09\n",
            " output_unique/StopGradient: 9.06e+08\n",
            " output_unique/Variable: 6.05e+07\n",
            " output_unique/WhileLoopOperation: 1.01e+08\n",
            "variables: 6.05e+07\n",
            " variables/trainable: 6.05e+07\n",
            "INFO:tensorflow:Done calling model_fn.\n",
            "INFO:tensorflow:Graph was finalized.\n",
            "INFO:tensorflow:Restoring parameters from small/model.ckpt-500\n",
            "INFO:tensorflow:Running local_init_op.\n",
            "INFO:tensorflow:Done running local_init_op.\n",
            "INFO:tensorflow:Before copy master to slices.\n",
            "INFO:tensorflow:Done with copy master to slices.\n",
            "INFO:tensorflow:decoded 0: b'source code summarization sql: select time ( col0 ) from tab0 ;'\n",
            "INFO:tensorflow:            -> b'mysql : how to get the difference between two dates ?'\n",
            "INFO:tensorflow:decoded 1: b'source code summarization sql: select time ( col0 ) from tab0 ;'\n",
            "INFO:tensorflow:            -> b'mysql : how to get the difference between two dates ?'\n",
            "INFO:tensorflow:decoded 2: b'source code summarization sql: select time ( col0 ) from tab0 ;'\n",
            "INFO:tensorflow:            -> b'mysql : how to get the difference between two dates ?'\n",
            "INFO:tensorflow:decoded 4: b'source code summarization sql: select time ( col0 ) from tab0 ;'\n",
            "INFO:tensorflow:            -> b'mysql : how to get the difference between two dates ?'\n",
            "INFO:tensorflow:prediction_loop marked as finished\n",
            "INFO:tensorflow:prediction_loop marked as finished\n"
          ],
          "name": "stdout"
        }
      ]
    },
    {
      "cell_type": "markdown",
      "metadata": {
        "id": "La_Lmsj1J7Wq"
      },
      "source": [
        "### Code Summarization Result"
      ]
    },
    {
      "cell_type": "code",
      "metadata": {
        "id": "Fov0lPWdD72H",
        "outputId": "8faf42b8-697c-4201-bcd8-dd735dd4e356",
        "colab": {
          "base_uri": "https://localhost:8080/"
        }
      },
      "source": [
        "prediction_file = \"MtfModel-output.txt-500\"\n",
        "print(\"\\nPredictions using checkpoint 500:\\n\" )\n",
        "with tf.io.gfile.GFile(prediction_file) as f:\n",
        "  for c, d in zip(codes, f):\n",
        "    if c:\n",
        "      print(\"Code for prediction: \" + c + '\\n')\n",
        "      print(\"Generated Summarization: \" + d)\n"
      ],
      "execution_count": 162,
      "outputs": [
        {
          "output_type": "stream",
          "text": [
            "\n",
            "Predictions using checkpoint 500:\n",
            "\n",
            "Code for prediction: select time ( col0 ) from tab0 ;\n",
            "\n",
            "Generated Summarization: b'mysql : how to get the difference between two dates ?'\n",
            "\n"
          ],
          "name": "stdout"
        }
      ]
    }
  ]
}