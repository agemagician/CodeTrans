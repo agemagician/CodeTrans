{
  "nbformat": 4,
  "nbformat_minor": 0,
  "metadata": {
    "colab": {
      "name": "codeTrans_function_documentation_generation_php_code_small",
      "provenance": [],
      "collapsed_sections": [],
      "toc_visible": true,
      "authorship_tag": "ABX9TyPSIGN1j4I2Sdj4LYKLvYzG",
      "include_colab_link": true
    },
    "kernelspec": {
      "name": "python3",
      "display_name": "Python 3"
    }
  },
  "cells": [
    {
      "cell_type": "markdown",
      "metadata": {
        "id": "view-in-github",
        "colab_type": "text"
      },
      "source": [
        "<a href=\"https://colab.research.google.com/github/agemagician/CodeTrans/blob/main/prediction/single%20task/function%20documentation%20generation/php/small_model.ipynb\" target=\"_parent\"><img src=\"https://colab.research.google.com/assets/colab-badge.svg\" alt=\"Open In Colab\"/></a>"
      ]
    },
    {
      "cell_type": "markdown",
      "metadata": {
        "id": "6YPrvwDIHdBe"
      },
      "source": [
        "## Install the library and download the pretrained models"
      ]
    },
    {
      "cell_type": "code",
      "metadata": {
        "id": "_WI23u_mBGZ7",
        "outputId": "b561f3f5-4e27-4a28-90ba-dff4a7ef7f37",
        "colab": {
          "base_uri": "https://localhost:8080/"
        }
      },
      "source": [
        "print(\"Installing dependencies...\")\n",
        "%tensorflow_version 2.x\n",
        "!pip install -q t5==0.6.4\n",
        "\n",
        "import functools\n",
        "import os\n",
        "import time\n",
        "import warnings\n",
        "warnings.filterwarnings(\"ignore\", category=DeprecationWarning)\n",
        "\n",
        "import tensorflow.compat.v1 as tf\n",
        "import tensorflow_datasets as tfds\n",
        "\n",
        "import t5\n",
        "\n",
        "!wget \"https://www.dropbox.com/sh/kjoqdpj7e16dny9/AADdvjWVFckCgNQN-AqMKhiDa?dl=1\" -O vocabulary.zip\n",
        "!unzip vocabulary.zip\n",
        "!rm vocabulary.zip\n",
        "!wget \"https://www.dropbox.com/sh/5r5afd81rvzqzco/AAAPuDqtmx7cZ2hoVGcPF9m2a?dl=1\" -O php.zip\n",
        "!unzip php.zip\n",
        "!rm php.zip"
      ],
      "execution_count": 1,
      "outputs": [
        {
          "output_type": "stream",
          "text": [
            "Installing dependencies...\n",
            "\u001b[K     |████████████████████████████████| 163kB 3.4MB/s \n",
            "\u001b[K     |████████████████████████████████| 1.3MB 10.7MB/s \n",
            "\u001b[K     |████████████████████████████████| 2.6MB 22.2MB/s \n",
            "\u001b[K     |████████████████████████████████| 3.6MB 44.2MB/s \n",
            "\u001b[K     |████████████████████████████████| 1.1MB 45.9MB/s \n",
            "\u001b[K     |████████████████████████████████| 348kB 45.5MB/s \n",
            "\u001b[K     |████████████████████████████████| 71kB 4.9MB/s \n",
            "\u001b[K     |████████████████████████████████| 890kB 51.1MB/s \n",
            "\u001b[K     |████████████████████████████████| 2.9MB 38.6MB/s \n",
            "\u001b[?25h  Building wheel for sacremoses (setup.py) ... \u001b[?25l\u001b[?25hdone\n",
            "INFO:tensorflow:tokens_length=568 inputs_length=512 targets_length=114 noise_density=0.15 mean_noise_span_length=3.0 \n",
            "--2020-11-02 19:28:53--  https://www.dropbox.com/sh/kjoqdpj7e16dny9/AADdvjWVFckCgNQN-AqMKhiDa?dl=1\n",
            "Resolving www.dropbox.com (www.dropbox.com)... 162.125.3.1, 2620:100:6018:1::a27d:301\n",
            "Connecting to www.dropbox.com (www.dropbox.com)|162.125.3.1|:443... connected.\n",
            "HTTP request sent, awaiting response... 301 Moved Permanently\n",
            "Location: /sh/dl/kjoqdpj7e16dny9/AADdvjWVFckCgNQN-AqMKhiDa [following]\n",
            "--2020-11-02 19:28:53--  https://www.dropbox.com/sh/dl/kjoqdpj7e16dny9/AADdvjWVFckCgNQN-AqMKhiDa\n",
            "Reusing existing connection to www.dropbox.com:443.\n",
            "HTTP request sent, awaiting response... 302 Found\n",
            "Location: https://uc1df3b20047812a04a8b3f06c44.dl.dropboxusercontent.com/zip_download_get/Al3qXy_TyKz8GCgyRZM5rAmuh18rCDr5dH-T9lIW5PaZC1o-mkAJa6PTytzaax-8G2WdX8aBx5CKpgq0bE5FTWNfGSJ76C6c3ITZCzoluoKo-w?dl=1 [following]\n",
            "--2020-11-02 19:28:54--  https://uc1df3b20047812a04a8b3f06c44.dl.dropboxusercontent.com/zip_download_get/Al3qXy_TyKz8GCgyRZM5rAmuh18rCDr5dH-T9lIW5PaZC1o-mkAJa6PTytzaax-8G2WdX8aBx5CKpgq0bE5FTWNfGSJ76C6c3ITZCzoluoKo-w?dl=1\n",
            "Resolving uc1df3b20047812a04a8b3f06c44.dl.dropboxusercontent.com (uc1df3b20047812a04a8b3f06c44.dl.dropboxusercontent.com)... 162.125.5.15, 2620:100:6018:15::a27d:30f\n",
            "Connecting to uc1df3b20047812a04a8b3f06c44.dl.dropboxusercontent.com (uc1df3b20047812a04a8b3f06c44.dl.dropboxusercontent.com)|162.125.5.15|:443... connected.\n",
            "HTTP request sent, awaiting response... 200 OK\n",
            "Length: 1381528 (1.3M) [application/zip]\n",
            "Saving to: ‘vocabulary.zip’\n",
            "\n",
            "vocabulary.zip      100%[===================>]   1.32M  5.21MB/s    in 0.3s    \n",
            "\n",
            "2020-11-02 19:28:55 (5.21 MB/s) - ‘vocabulary.zip’ saved [1381528/1381528]\n",
            "\n",
            "Archive:  vocabulary.zip\n",
            "warning:  stripped absolute path spec from /\n",
            "mapname:  conversion of  failed\n",
            " extracting: code_spm_unigram_40M.model  \n",
            " extracting: code_spm_unigram_40M.vocab  \n",
            "--2020-11-02 19:28:55--  https://www.dropbox.com/sh/5r5afd81rvzqzco/AAAPuDqtmx7cZ2hoVGcPF9m2a?dl=1\n",
            "Resolving www.dropbox.com (www.dropbox.com)... 162.125.3.1, 2620:100:6018:1::a27d:301\n",
            "Connecting to www.dropbox.com (www.dropbox.com)|162.125.3.1|:443... connected.\n",
            "HTTP request sent, awaiting response... 301 Moved Permanently\n",
            "Location: /sh/dl/5r5afd81rvzqzco/AAAPuDqtmx7cZ2hoVGcPF9m2a [following]\n",
            "--2020-11-02 19:28:55--  https://www.dropbox.com/sh/dl/5r5afd81rvzqzco/AAAPuDqtmx7cZ2hoVGcPF9m2a\n",
            "Reusing existing connection to www.dropbox.com:443.\n",
            "HTTP request sent, awaiting response... 302 Found\n",
            "Location: https://ucb67a169a792b30dd497cd03308.dl.dropboxusercontent.com/zip_download_get/Al1kal7zADB5MykVdtysqKduo-lu7f9Rz1cqDm-z2osSsOrB4EPbn-sd60I6YnicSPepQXCAWr9y54VQ2dpmVBt6oKZ4BjOT8upVUTQwmU04Gw?dl=1 [following]\n",
            "--2020-11-02 19:28:56--  https://ucb67a169a792b30dd497cd03308.dl.dropboxusercontent.com/zip_download_get/Al1kal7zADB5MykVdtysqKduo-lu7f9Rz1cqDm-z2osSsOrB4EPbn-sd60I6YnicSPepQXCAWr9y54VQ2dpmVBt6oKZ4BjOT8upVUTQwmU04Gw?dl=1\n",
            "Resolving ucb67a169a792b30dd497cd03308.dl.dropboxusercontent.com (ucb67a169a792b30dd497cd03308.dl.dropboxusercontent.com)... 162.125.3.15, 2620:100:6018:15::a27d:30f\n",
            "Connecting to ucb67a169a792b30dd497cd03308.dl.dropboxusercontent.com (ucb67a169a792b30dd497cd03308.dl.dropboxusercontent.com)|162.125.3.15|:443... connected.\n",
            "HTTP request sent, awaiting response... 200 OK\n",
            "Length: 661267152 (631M) [application/zip]\n",
            "Saving to: ‘php.zip’\n",
            "\n",
            "php.zip             100%[===================>] 630.63M  63.3MB/s    in 11s     \n",
            "\n",
            "2020-11-02 19:29:08 (55.4 MB/s) - ‘php.zip’ saved [661267152/661267152]\n",
            "\n",
            "Archive:  php.zip\n",
            "warning:  stripped absolute path spec from /\n",
            "mapname:  conversion of  failed\n",
            "   creating: base/\n",
            "   creating: small/\n",
            " extracting: base/command            \n",
            " extracting: small/command           \n",
            " extracting: base/command.1          \n",
            " extracting: base/checkpoint         \n",
            " extracting: small/command.1         \n",
            " extracting: small/checkpoint        \n",
            " extracting: base/graph.pbtxt        \n",
            " extracting: small/graph.pbtxt       \n",
            " extracting: base/operative_config.gin  \n",
            " extracting: small/operative_config.gin  \n",
            " extracting: base/model.ckpt-30000.meta  \n",
            " extracting: base/model.ckpt-30000.index  \n",
            " extracting: base/t5_code_tasks_colab.py  \n",
            " extracting: small/model.ckpt-200000.meta  \n",
            " extracting: small/t5_code_tasks_colab.py  \n",
            " extracting: small/model.ckpt-200000.index  \n",
            " extracting: base/model.ckpt-30000.data-00001-of-00002  \n",
            " extracting: base/model.ckpt-30000.data-00000-of-00002  \n",
            " extracting: small/model.ckpt-200000.data-00000-of-00002  \n",
            " extracting: small/model.ckpt-200000.data-00001-of-00002  \n"
          ],
          "name": "stdout"
        }
      ]
    },
    {
      "cell_type": "markdown",
      "metadata": {
        "id": "MbW4aF7hHosN"
      },
      "source": [
        "## Set sentencepiece model"
      ]
    },
    {
      "cell_type": "code",
      "metadata": {
        "id": "-0SXWeKu9B5U",
        "outputId": "57939769-f9ac-4ab1-f221-e02032de2404",
        "colab": {
          "base_uri": "https://localhost:8080/"
        }
      },
      "source": [
        "from t5.data.sentencepiece_vocabulary import SentencePieceVocabulary\n",
        "\n",
        "vocab_model_path = 'code_spm_unigram_40M.model'\n",
        "vocab = SentencePieceVocabulary(vocab_model_path, extra_ids=100)\n",
        "\n",
        "print(\"Vocab has a size of %d\\n\" % vocab.vocab_size)"
      ],
      "execution_count": 2,
      "outputs": [
        {
          "output_type": "stream",
          "text": [
            "Vocab has a size of 32100\n",
            "\n"
          ],
          "name": "stdout"
        }
      ]
    },
    {
      "cell_type": "markdown",
      "metadata": {
        "id": "7VpxgigMIGbv"
      },
      "source": [
        "## Set the preprocessors and the task registry for the t5 model"
      ]
    },
    {
      "cell_type": "code",
      "metadata": {
        "id": "meFeWitk-TE3"
      },
      "source": [
        "def php_codeSearchNet_dataset_fn(split, shuffle_files=False):\n",
        "    del shuffle_files\n",
        "\n",
        "    ds = tf.data.TextLineDataset(php_path[split])\n",
        "    ds = ds.map(\n",
        "        functools.partial(tf.io.decode_csv, record_defaults=[\"\", \"\"], field_delim=\"\\t\", use_quote_delim=False),\n",
        "        num_parallel_calls=tf.data.experimental.AUTOTUNE\n",
        "    )\n",
        "    ds = ds.map(lambda *ex: dict(zip([\"code\", \"docstring\"], ex)))\n",
        "    return ds\n",
        "\n",
        "\n",
        "def php_preprocessor(ds):\n",
        "    def normalize_text(text):\n",
        "        return text\n",
        "\n",
        "    def to_inputs_and_targets(ex):\n",
        "        return {\n",
        "            \"inputs\": tf.strings.join([\"function documentation generation php: \", normalize_text(ex[\"code\"])]),\n",
        "            \"targets\": normalize_text(ex[\"docstring\"])\n",
        "        }\n",
        "\n",
        "    return ds.map(to_inputs_and_targets, num_parallel_calls=tf.data.experimental.AUTOTUNE)\n",
        "\n",
        "\n",
        "t5.data.TaskRegistry.remove('function_documentation_generation_php_code')\n",
        "t5.data.TaskRegistry.add(\n",
        "    \"function_documentation_generation_php_code\",\n",
        "    dataset_fn=php_codeSearchNet_dataset_fn,\n",
        "    output_features={\n",
        "        \"inputs\": t5.data.utils.Feature(vocabulary=vocab),\n",
        "        \"targets\": t5.data.utils.Feature(vocabulary=vocab),\n",
        "    },\n",
        "    splits=[\"train\", \"validation\"],\n",
        "    text_preprocessor=[php_preprocessor],\n",
        "    postprocess_fn=t5.data.postprocessors.lower_text,\n",
        "    metric_fns=[t5.evaluation.metrics.bleu, t5.evaluation.metrics.accuracy, t5.evaluation.metrics.rouge],\n",
        ")"
      ],
      "execution_count": 3,
      "outputs": []
    },
    {
      "cell_type": "markdown",
      "metadata": {
        "id": "sjZN7C7wISzq"
      },
      "source": [
        "## Set t5 small model"
      ]
    },
    {
      "cell_type": "code",
      "metadata": {
        "id": "EWBKPR24BweX"
      },
      "source": [
        "MODEL_DIR = \"small\"\n",
        "model_parallelism = 1\n",
        "train_batch_size = 256\n",
        "\n",
        "tf.io.gfile.makedirs(MODEL_DIR)\n",
        "model = t5.models.MtfModel(\n",
        "    model_dir=MODEL_DIR,\n",
        "    tpu=None,\n",
        "    tpu_topology=None,\n",
        "    model_parallelism=model_parallelism,\n",
        "    batch_size=train_batch_size,\n",
        "    sequence_length={\"inputs\": 512, \"targets\": 512},\n",
        "    mesh_shape=\"model:1,batch:1\",\n",
        "    mesh_devices=[\"GPU:0\"],\n",
        "    learning_rate_schedule=0.003,\n",
        "    save_checkpoints_steps=5000,\n",
        "    keep_checkpoint_max=None,\n",
        "    iterations_per_loop=100,\n",
        ")"
      ],
      "execution_count": 4,
      "outputs": []
    },
    {
      "cell_type": "markdown",
      "metadata": {
        "id": "yEE3ZQt5I3Jt"
      },
      "source": [
        "## Code Documentation Summarization"
      ]
    },
    {
      "cell_type": "markdown",
      "metadata": {
        "id": "hkynwKIcEvHh"
      },
      "source": [
        "### Give the code for summarization"
      ]
    },
    {
      "cell_type": "code",
      "metadata": {
        "id": "nld-UUmII-2e"
      },
      "source": [
        "code = \"public static function update ( $ table ) { if ( ! is_array ( $ table ) ) { $ table = json_decode ( $ table , true ) ; } if ( ! SchemaManager :: tableExists ( $ table [ 'oldName' ] ) ) { throw SchemaException :: tableDoesNotExist ( $ table [ 'oldName' ] ) ; } $ updater = new self ( $ table ) ; $ updater -> updateTable ( ) ; }\"#@param { type: \"string\" }\n"
      ],
      "execution_count": 9,
      "outputs": []
    },
    {
      "cell_type": "markdown",
      "metadata": {
        "id": "iUGjYiWzJSu0"
      },
      "source": [
        "### Record the code for summarization with the prefix to a txt file"
      ]
    },
    {
      "cell_type": "code",
      "metadata": {
        "id": "UCGjrieBJck1"
      },
      "source": [
        "codes = [code]\n",
        "\n",
        "inputs_path = 'input.txt'\n",
        "with tf.io.gfile.GFile(inputs_path, \"w\") as f:\n",
        "  for c in codes:\n",
        "    f.write(\"function documentation generation php: %s\\n\" % c)\n",
        "\n",
        "predict_outputs_path = 'MtfModel-output.txt'\n"
      ],
      "execution_count": 13,
      "outputs": []
    },
    {
      "cell_type": "markdown",
      "metadata": {
        "id": "PK_kyR4VJlha"
      },
      "source": [
        "### Running the model with the best checkpoint to summarize the given code"
      ]
    },
    {
      "cell_type": "code",
      "metadata": {
        "id": "cdThL03VDNX3",
        "outputId": "c3765b94-2ee1-4570-9d6f-3edfefd63e4e",
        "colab": {
          "base_uri": "https://localhost:8080/"
        }
      },
      "source": [
        "model.batch_size = 8  # Min size for small model on v2-8 with parallelism 1.\n",
        "model.predict(\n",
        "    input_file=\"input.txt\",\n",
        "    output_file=predict_outputs_path,\n",
        "    checkpoint_steps=200000,\n",
        "    beam_size=4,\n",
        "    vocabulary=vocab, \n",
        "    # Select the most probable output token at each step.\n",
        "    temperature=0,\n",
        ")"
      ],
      "execution_count": 14,
      "outputs": [
        {
          "output_type": "stream",
          "text": [
            "INFO:tensorflow:Using config: {'_model_dir': 'small', '_tf_random_seed': None, '_save_summary_steps': 100, '_save_checkpoints_steps': None, '_save_checkpoints_secs': None, '_session_config': allow_soft_placement: true\n",
            "graph_options {\n",
            "  rewrite_options {\n",
            "    meta_optimizer_iterations: ONE\n",
            "  }\n",
            "}\n",
            ", '_keep_checkpoint_max': 5, '_keep_checkpoint_every_n_hours': 10000, '_log_step_count_steps': None, '_train_distribute': None, '_device_fn': None, '_protocol': None, '_eval_distribute': None, '_experimental_distribute': None, '_experimental_max_worker_delay_secs': None, '_session_creation_timeout_secs': 7200, '_service': None, '_cluster_spec': ClusterSpec({}), '_task_type': 'worker', '_task_id': 0, '_global_id_in_cluster': 0, '_master': '', '_evaluation_master': '', '_is_chief': True, '_num_ps_replicas': 0, '_num_worker_replicas': 1, '_tpu_config': TPUConfig(iterations_per_loop=100, num_shards=None, num_cores_per_replica=1, per_host_input_for_training=4, tpu_job_name=None, initial_infeed_sleep_secs=None, input_partition_dims=None, eval_training_input_configuration=2, experimental_host_call_every_n_steps=1), '_cluster': None}\n",
            "INFO:tensorflow:_TPUContext: eval_on_tpu True\n",
            "WARNING:tensorflow:eval_on_tpu ignored because use_tpu is False.\n",
            "INFO:tensorflow:Calling model_fn.\n",
            "INFO:tensorflow:Running infer on CPU/GPU\n",
            "INFO:tensorflow:feature inputs : Tensor(\"Reshape:0\", shape=(8, 512), dtype=int32)\n",
            "WARNING:tensorflow:Using default tf glorot_uniform_initializer for variable encoder/block_000/layer_000/SelfAttention/relative_attention_bias  The initialzer will guess the input and output dimensions  based on dimension order.\n",
            "WARNING:tensorflow:Using default tf glorot_uniform_initializer for variable decoder/block_000/layer_000/SelfAttention/relative_attention_bias  The initialzer will guess the input and output dimensions  based on dimension order.\n",
            "WARNING:tensorflow:Using default tf glorot_uniform_initializer for variable decoder/block_000/layer_000/SelfAttention/relative_attention_bias  The initialzer will guess the input and output dimensions  based on dimension order.\n",
            "INFO:tensorflow:Variable decoder/block_000/layer_000/SelfAttention/k                  size 262144       slice_size 262144       Shape[d_model=512, heads=512]                               \n",
            "INFO:tensorflow:Variable decoder/block_000/layer_000/SelfAttention/o                  size 262144       slice_size 262144       Shape[heads=512, d_model=512]                               \n",
            "INFO:tensorflow:Variable decoder/block_000/layer_000/SelfAttention/q                  size 262144       slice_size 262144       Shape[d_model=512, heads=512]                               \n",
            "INFO:tensorflow:Variable decoder/block_000/layer_000/SelfAttention/relative_attention_bias size 256          slice_size 256          Shape[heads=8, buckets=32]                                  \n",
            "INFO:tensorflow:Variable decoder/block_000/layer_000/SelfAttention/v                  size 262144       slice_size 262144       Shape[d_model=512, heads=512]                               \n",
            "INFO:tensorflow:Variable decoder/block_000/layer_000/rms_norm/scale                   size 512          slice_size 512          Shape[d_model=512]                                          \n",
            "INFO:tensorflow:Variable decoder/block_000/layer_001/EncDecAttention/k                size 262144       slice_size 262144       Shape[d_model=512, heads=512]                               \n",
            "INFO:tensorflow:Variable decoder/block_000/layer_001/EncDecAttention/o                size 262144       slice_size 262144       Shape[heads=512, d_model=512]                               \n",
            "INFO:tensorflow:Variable decoder/block_000/layer_001/EncDecAttention/q                size 262144       slice_size 262144       Shape[d_model=512, heads=512]                               \n",
            "INFO:tensorflow:Variable decoder/block_000/layer_001/EncDecAttention/v                size 262144       slice_size 262144       Shape[d_model=512, heads=512]                               \n",
            "INFO:tensorflow:Variable decoder/block_000/layer_001/rms_norm/scale                   size 512          slice_size 512          Shape[d_model=512]                                          \n",
            "INFO:tensorflow:Variable decoder/block_000/layer_002/DenseReluDense/wi/kernel         size 1048576      slice_size 1048576      Shape[d_model=512, d_ff=2048]                               \n",
            "INFO:tensorflow:Variable decoder/block_000/layer_002/DenseReluDense/wo/kernel         size 1048576      slice_size 1048576      Shape[d_ff=2048, d_model=512]                               \n",
            "INFO:tensorflow:Variable decoder/block_000/layer_002/rms_norm/scale                   size 512          slice_size 512          Shape[d_model=512]                                          \n",
            "INFO:tensorflow:Variable decoder/block_001/layer_000/SelfAttention/k                  size 262144       slice_size 262144       Shape[d_model=512, heads=512]                               \n",
            "INFO:tensorflow:Variable decoder/block_001/layer_000/SelfAttention/o                  size 262144       slice_size 262144       Shape[heads=512, d_model=512]                               \n",
            "INFO:tensorflow:Variable decoder/block_001/layer_000/SelfAttention/q                  size 262144       slice_size 262144       Shape[d_model=512, heads=512]                               \n",
            "INFO:tensorflow:Variable decoder/block_001/layer_000/SelfAttention/v                  size 262144       slice_size 262144       Shape[d_model=512, heads=512]                               \n",
            "INFO:tensorflow:Variable decoder/block_001/layer_000/rms_norm/scale                   size 512          slice_size 512          Shape[d_model=512]                                          \n",
            "INFO:tensorflow:Variable decoder/block_001/layer_001/EncDecAttention/k                size 262144       slice_size 262144       Shape[d_model=512, heads=512]                               \n",
            "INFO:tensorflow:Variable decoder/block_001/layer_001/EncDecAttention/o                size 262144       slice_size 262144       Shape[heads=512, d_model=512]                               \n",
            "INFO:tensorflow:Variable decoder/block_001/layer_001/EncDecAttention/q                size 262144       slice_size 262144       Shape[d_model=512, heads=512]                               \n",
            "INFO:tensorflow:Variable decoder/block_001/layer_001/EncDecAttention/v                size 262144       slice_size 262144       Shape[d_model=512, heads=512]                               \n",
            "INFO:tensorflow:Variable decoder/block_001/layer_001/rms_norm/scale                   size 512          slice_size 512          Shape[d_model=512]                                          \n",
            "INFO:tensorflow:Variable decoder/block_001/layer_002/DenseReluDense/wi/kernel         size 1048576      slice_size 1048576      Shape[d_model=512, d_ff=2048]                               \n",
            "INFO:tensorflow:Variable decoder/block_001/layer_002/DenseReluDense/wo/kernel         size 1048576      slice_size 1048576      Shape[d_ff=2048, d_model=512]                               \n",
            "INFO:tensorflow:Variable decoder/block_001/layer_002/rms_norm/scale                   size 512          slice_size 512          Shape[d_model=512]                                          \n",
            "INFO:tensorflow:Variable decoder/block_002/layer_000/SelfAttention/k                  size 262144       slice_size 262144       Shape[d_model=512, heads=512]                               \n",
            "INFO:tensorflow:Variable decoder/block_002/layer_000/SelfAttention/o                  size 262144       slice_size 262144       Shape[heads=512, d_model=512]                               \n",
            "INFO:tensorflow:Variable decoder/block_002/layer_000/SelfAttention/q                  size 262144       slice_size 262144       Shape[d_model=512, heads=512]                               \n",
            "INFO:tensorflow:Variable decoder/block_002/layer_000/SelfAttention/v                  size 262144       slice_size 262144       Shape[d_model=512, heads=512]                               \n",
            "INFO:tensorflow:Variable decoder/block_002/layer_000/rms_norm/scale                   size 512          slice_size 512          Shape[d_model=512]                                          \n",
            "INFO:tensorflow:Variable decoder/block_002/layer_001/EncDecAttention/k                size 262144       slice_size 262144       Shape[d_model=512, heads=512]                               \n",
            "INFO:tensorflow:Variable decoder/block_002/layer_001/EncDecAttention/o                size 262144       slice_size 262144       Shape[heads=512, d_model=512]                               \n",
            "INFO:tensorflow:Variable decoder/block_002/layer_001/EncDecAttention/q                size 262144       slice_size 262144       Shape[d_model=512, heads=512]                               \n",
            "INFO:tensorflow:Variable decoder/block_002/layer_001/EncDecAttention/v                size 262144       slice_size 262144       Shape[d_model=512, heads=512]                               \n",
            "INFO:tensorflow:Variable decoder/block_002/layer_001/rms_norm/scale                   size 512          slice_size 512          Shape[d_model=512]                                          \n",
            "INFO:tensorflow:Variable decoder/block_002/layer_002/DenseReluDense/wi/kernel         size 1048576      slice_size 1048576      Shape[d_model=512, d_ff=2048]                               \n",
            "INFO:tensorflow:Variable decoder/block_002/layer_002/DenseReluDense/wo/kernel         size 1048576      slice_size 1048576      Shape[d_ff=2048, d_model=512]                               \n",
            "INFO:tensorflow:Variable decoder/block_002/layer_002/rms_norm/scale                   size 512          slice_size 512          Shape[d_model=512]                                          \n",
            "INFO:tensorflow:Variable decoder/block_003/layer_000/SelfAttention/k                  size 262144       slice_size 262144       Shape[d_model=512, heads=512]                               \n",
            "INFO:tensorflow:Variable decoder/block_003/layer_000/SelfAttention/o                  size 262144       slice_size 262144       Shape[heads=512, d_model=512]                               \n",
            "INFO:tensorflow:Variable decoder/block_003/layer_000/SelfAttention/q                  size 262144       slice_size 262144       Shape[d_model=512, heads=512]                               \n",
            "INFO:tensorflow:Variable decoder/block_003/layer_000/SelfAttention/v                  size 262144       slice_size 262144       Shape[d_model=512, heads=512]                               \n",
            "INFO:tensorflow:Variable decoder/block_003/layer_000/rms_norm/scale                   size 512          slice_size 512          Shape[d_model=512]                                          \n",
            "INFO:tensorflow:Variable decoder/block_003/layer_001/EncDecAttention/k                size 262144       slice_size 262144       Shape[d_model=512, heads=512]                               \n",
            "INFO:tensorflow:Variable decoder/block_003/layer_001/EncDecAttention/o                size 262144       slice_size 262144       Shape[heads=512, d_model=512]                               \n",
            "INFO:tensorflow:Variable decoder/block_003/layer_001/EncDecAttention/q                size 262144       slice_size 262144       Shape[d_model=512, heads=512]                               \n",
            "INFO:tensorflow:Variable decoder/block_003/layer_001/EncDecAttention/v                size 262144       slice_size 262144       Shape[d_model=512, heads=512]                               \n",
            "INFO:tensorflow:Variable decoder/block_003/layer_001/rms_norm/scale                   size 512          slice_size 512          Shape[d_model=512]                                          \n",
            "INFO:tensorflow:Variable decoder/block_003/layer_002/DenseReluDense/wi/kernel         size 1048576      slice_size 1048576      Shape[d_model=512, d_ff=2048]                               \n",
            "INFO:tensorflow:Variable decoder/block_003/layer_002/DenseReluDense/wo/kernel         size 1048576      slice_size 1048576      Shape[d_ff=2048, d_model=512]                               \n",
            "INFO:tensorflow:Variable decoder/block_003/layer_002/rms_norm/scale                   size 512          slice_size 512          Shape[d_model=512]                                          \n",
            "INFO:tensorflow:Variable decoder/block_004/layer_000/SelfAttention/k                  size 262144       slice_size 262144       Shape[d_model=512, heads=512]                               \n",
            "INFO:tensorflow:Variable decoder/block_004/layer_000/SelfAttention/o                  size 262144       slice_size 262144       Shape[heads=512, d_model=512]                               \n",
            "INFO:tensorflow:Variable decoder/block_004/layer_000/SelfAttention/q                  size 262144       slice_size 262144       Shape[d_model=512, heads=512]                               \n",
            "INFO:tensorflow:Variable decoder/block_004/layer_000/SelfAttention/v                  size 262144       slice_size 262144       Shape[d_model=512, heads=512]                               \n",
            "INFO:tensorflow:Variable decoder/block_004/layer_000/rms_norm/scale                   size 512          slice_size 512          Shape[d_model=512]                                          \n",
            "INFO:tensorflow:Variable decoder/block_004/layer_001/EncDecAttention/k                size 262144       slice_size 262144       Shape[d_model=512, heads=512]                               \n",
            "INFO:tensorflow:Variable decoder/block_004/layer_001/EncDecAttention/o                size 262144       slice_size 262144       Shape[heads=512, d_model=512]                               \n",
            "INFO:tensorflow:Variable decoder/block_004/layer_001/EncDecAttention/q                size 262144       slice_size 262144       Shape[d_model=512, heads=512]                               \n",
            "INFO:tensorflow:Variable decoder/block_004/layer_001/EncDecAttention/v                size 262144       slice_size 262144       Shape[d_model=512, heads=512]                               \n",
            "INFO:tensorflow:Variable decoder/block_004/layer_001/rms_norm/scale                   size 512          slice_size 512          Shape[d_model=512]                                          \n",
            "INFO:tensorflow:Variable decoder/block_004/layer_002/DenseReluDense/wi/kernel         size 1048576      slice_size 1048576      Shape[d_model=512, d_ff=2048]                               \n",
            "INFO:tensorflow:Variable decoder/block_004/layer_002/DenseReluDense/wo/kernel         size 1048576      slice_size 1048576      Shape[d_ff=2048, d_model=512]                               \n",
            "INFO:tensorflow:Variable decoder/block_004/layer_002/rms_norm/scale                   size 512          slice_size 512          Shape[d_model=512]                                          \n",
            "INFO:tensorflow:Variable decoder/block_005/layer_000/SelfAttention/k                  size 262144       slice_size 262144       Shape[d_model=512, heads=512]                               \n",
            "INFO:tensorflow:Variable decoder/block_005/layer_000/SelfAttention/o                  size 262144       slice_size 262144       Shape[heads=512, d_model=512]                               \n",
            "INFO:tensorflow:Variable decoder/block_005/layer_000/SelfAttention/q                  size 262144       slice_size 262144       Shape[d_model=512, heads=512]                               \n",
            "INFO:tensorflow:Variable decoder/block_005/layer_000/SelfAttention/v                  size 262144       slice_size 262144       Shape[d_model=512, heads=512]                               \n",
            "INFO:tensorflow:Variable decoder/block_005/layer_000/rms_norm/scale                   size 512          slice_size 512          Shape[d_model=512]                                          \n",
            "INFO:tensorflow:Variable decoder/block_005/layer_001/EncDecAttention/k                size 262144       slice_size 262144       Shape[d_model=512, heads=512]                               \n",
            "INFO:tensorflow:Variable decoder/block_005/layer_001/EncDecAttention/o                size 262144       slice_size 262144       Shape[heads=512, d_model=512]                               \n",
            "INFO:tensorflow:Variable decoder/block_005/layer_001/EncDecAttention/q                size 262144       slice_size 262144       Shape[d_model=512, heads=512]                               \n",
            "INFO:tensorflow:Variable decoder/block_005/layer_001/EncDecAttention/v                size 262144       slice_size 262144       Shape[d_model=512, heads=512]                               \n",
            "INFO:tensorflow:Variable decoder/block_005/layer_001/rms_norm/scale                   size 512          slice_size 512          Shape[d_model=512]                                          \n",
            "INFO:tensorflow:Variable decoder/block_005/layer_002/DenseReluDense/wi/kernel         size 1048576      slice_size 1048576      Shape[d_model=512, d_ff=2048]                               \n",
            "INFO:tensorflow:Variable decoder/block_005/layer_002/DenseReluDense/wo/kernel         size 1048576      slice_size 1048576      Shape[d_ff=2048, d_model=512]                               \n",
            "INFO:tensorflow:Variable decoder/block_005/layer_002/rms_norm/scale                   size 512          slice_size 512          Shape[d_model=512]                                          \n",
            "INFO:tensorflow:Variable decoder/rms_norm/scale                                       size 512          slice_size 512          Shape[d_model=512]                                          \n",
            "INFO:tensorflow:Variable encoder/block_000/layer_000/SelfAttention/k                  size 262144       slice_size 262144       Shape[d_model=512, heads=512]                               \n",
            "INFO:tensorflow:Variable encoder/block_000/layer_000/SelfAttention/o                  size 262144       slice_size 262144       Shape[heads=512, d_model=512]                               \n",
            "INFO:tensorflow:Variable encoder/block_000/layer_000/SelfAttention/q                  size 262144       slice_size 262144       Shape[d_model=512, heads=512]                               \n",
            "INFO:tensorflow:Variable encoder/block_000/layer_000/SelfAttention/relative_attention_bias size 256          slice_size 256          Shape[heads=8, buckets=32]                                  \n",
            "INFO:tensorflow:Variable encoder/block_000/layer_000/SelfAttention/v                  size 262144       slice_size 262144       Shape[d_model=512, heads=512]                               \n",
            "INFO:tensorflow:Variable encoder/block_000/layer_000/rms_norm/scale                   size 512          slice_size 512          Shape[d_model=512]                                          \n",
            "INFO:tensorflow:Variable encoder/block_000/layer_001/DenseReluDense/wi/kernel         size 1048576      slice_size 1048576      Shape[d_model=512, d_ff=2048]                               \n",
            "INFO:tensorflow:Variable encoder/block_000/layer_001/DenseReluDense/wo/kernel         size 1048576      slice_size 1048576      Shape[d_ff=2048, d_model=512]                               \n",
            "INFO:tensorflow:Variable encoder/block_000/layer_001/rms_norm/scale                   size 512          slice_size 512          Shape[d_model=512]                                          \n",
            "INFO:tensorflow:Variable encoder/block_001/layer_000/SelfAttention/k                  size 262144       slice_size 262144       Shape[d_model=512, heads=512]                               \n",
            "INFO:tensorflow:Variable encoder/block_001/layer_000/SelfAttention/o                  size 262144       slice_size 262144       Shape[heads=512, d_model=512]                               \n",
            "INFO:tensorflow:Variable encoder/block_001/layer_000/SelfAttention/q                  size 262144       slice_size 262144       Shape[d_model=512, heads=512]                               \n",
            "INFO:tensorflow:Variable encoder/block_001/layer_000/SelfAttention/v                  size 262144       slice_size 262144       Shape[d_model=512, heads=512]                               \n",
            "INFO:tensorflow:Variable encoder/block_001/layer_000/rms_norm/scale                   size 512          slice_size 512          Shape[d_model=512]                                          \n",
            "INFO:tensorflow:Variable encoder/block_001/layer_001/DenseReluDense/wi/kernel         size 1048576      slice_size 1048576      Shape[d_model=512, d_ff=2048]                               \n",
            "INFO:tensorflow:Variable encoder/block_001/layer_001/DenseReluDense/wo/kernel         size 1048576      slice_size 1048576      Shape[d_ff=2048, d_model=512]                               \n",
            "INFO:tensorflow:Variable encoder/block_001/layer_001/rms_norm/scale                   size 512          slice_size 512          Shape[d_model=512]                                          \n",
            "INFO:tensorflow:Variable encoder/block_002/layer_000/SelfAttention/k                  size 262144       slice_size 262144       Shape[d_model=512, heads=512]                               \n",
            "INFO:tensorflow:Variable encoder/block_002/layer_000/SelfAttention/o                  size 262144       slice_size 262144       Shape[heads=512, d_model=512]                               \n",
            "INFO:tensorflow:Variable encoder/block_002/layer_000/SelfAttention/q                  size 262144       slice_size 262144       Shape[d_model=512, heads=512]                               \n",
            "INFO:tensorflow:Variable encoder/block_002/layer_000/SelfAttention/v                  size 262144       slice_size 262144       Shape[d_model=512, heads=512]                               \n",
            "INFO:tensorflow:Variable encoder/block_002/layer_000/rms_norm/scale                   size 512          slice_size 512          Shape[d_model=512]                                          \n",
            "INFO:tensorflow:Variable encoder/block_002/layer_001/DenseReluDense/wi/kernel         size 1048576      slice_size 1048576      Shape[d_model=512, d_ff=2048]                               \n",
            "INFO:tensorflow:Variable encoder/block_002/layer_001/DenseReluDense/wo/kernel         size 1048576      slice_size 1048576      Shape[d_ff=2048, d_model=512]                               \n",
            "INFO:tensorflow:Variable encoder/block_002/layer_001/rms_norm/scale                   size 512          slice_size 512          Shape[d_model=512]                                          \n",
            "INFO:tensorflow:Variable encoder/block_003/layer_000/SelfAttention/k                  size 262144       slice_size 262144       Shape[d_model=512, heads=512]                               \n",
            "INFO:tensorflow:Variable encoder/block_003/layer_000/SelfAttention/o                  size 262144       slice_size 262144       Shape[heads=512, d_model=512]                               \n",
            "INFO:tensorflow:Variable encoder/block_003/layer_000/SelfAttention/q                  size 262144       slice_size 262144       Shape[d_model=512, heads=512]                               \n",
            "INFO:tensorflow:Variable encoder/block_003/layer_000/SelfAttention/v                  size 262144       slice_size 262144       Shape[d_model=512, heads=512]                               \n",
            "INFO:tensorflow:Variable encoder/block_003/layer_000/rms_norm/scale                   size 512          slice_size 512          Shape[d_model=512]                                          \n",
            "INFO:tensorflow:Variable encoder/block_003/layer_001/DenseReluDense/wi/kernel         size 1048576      slice_size 1048576      Shape[d_model=512, d_ff=2048]                               \n",
            "INFO:tensorflow:Variable encoder/block_003/layer_001/DenseReluDense/wo/kernel         size 1048576      slice_size 1048576      Shape[d_ff=2048, d_model=512]                               \n",
            "INFO:tensorflow:Variable encoder/block_003/layer_001/rms_norm/scale                   size 512          slice_size 512          Shape[d_model=512]                                          \n",
            "INFO:tensorflow:Variable encoder/block_004/layer_000/SelfAttention/k                  size 262144       slice_size 262144       Shape[d_model=512, heads=512]                               \n",
            "INFO:tensorflow:Variable encoder/block_004/layer_000/SelfAttention/o                  size 262144       slice_size 262144       Shape[heads=512, d_model=512]                               \n",
            "INFO:tensorflow:Variable encoder/block_004/layer_000/SelfAttention/q                  size 262144       slice_size 262144       Shape[d_model=512, heads=512]                               \n",
            "INFO:tensorflow:Variable encoder/block_004/layer_000/SelfAttention/v                  size 262144       slice_size 262144       Shape[d_model=512, heads=512]                               \n",
            "INFO:tensorflow:Variable encoder/block_004/layer_000/rms_norm/scale                   size 512          slice_size 512          Shape[d_model=512]                                          \n",
            "INFO:tensorflow:Variable encoder/block_004/layer_001/DenseReluDense/wi/kernel         size 1048576      slice_size 1048576      Shape[d_model=512, d_ff=2048]                               \n",
            "INFO:tensorflow:Variable encoder/block_004/layer_001/DenseReluDense/wo/kernel         size 1048576      slice_size 1048576      Shape[d_ff=2048, d_model=512]                               \n",
            "INFO:tensorflow:Variable encoder/block_004/layer_001/rms_norm/scale                   size 512          slice_size 512          Shape[d_model=512]                                          \n",
            "INFO:tensorflow:Variable encoder/block_005/layer_000/SelfAttention/k                  size 262144       slice_size 262144       Shape[d_model=512, heads=512]                               \n",
            "INFO:tensorflow:Variable encoder/block_005/layer_000/SelfAttention/o                  size 262144       slice_size 262144       Shape[heads=512, d_model=512]                               \n",
            "INFO:tensorflow:Variable encoder/block_005/layer_000/SelfAttention/q                  size 262144       slice_size 262144       Shape[d_model=512, heads=512]                               \n",
            "INFO:tensorflow:Variable encoder/block_005/layer_000/SelfAttention/v                  size 262144       slice_size 262144       Shape[d_model=512, heads=512]                               \n",
            "INFO:tensorflow:Variable encoder/block_005/layer_000/rms_norm/scale                   size 512          slice_size 512          Shape[d_model=512]                                          \n",
            "INFO:tensorflow:Variable encoder/block_005/layer_001/DenseReluDense/wi/kernel         size 1048576      slice_size 1048576      Shape[d_model=512, d_ff=2048]                               \n",
            "INFO:tensorflow:Variable encoder/block_005/layer_001/DenseReluDense/wo/kernel         size 1048576      slice_size 1048576      Shape[d_ff=2048, d_model=512]                               \n",
            "INFO:tensorflow:Variable encoder/block_005/layer_001/rms_norm/scale                   size 512          slice_size 512          Shape[d_model=512]                                          \n",
            "INFO:tensorflow:Variable encoder/rms_norm/scale                                       size 512          slice_size 512          Shape[d_model=512]                                          \n",
            "INFO:tensorflow:Variable shared/embedding                                             size 16449536     slice_size 16449536     Shape[vocab=32128, d_model=512]                             \n",
            "INFO:tensorflow:Trainable Variables            count: 131     Total size: 60506624         Total slice_size: 60506624       \n",
            "INFO:tensorflow:All Variables                  count: 131     Total size: 60506624         Total slice_size: 60506624       \n",
            "INFO:tensorflow:Counters:\n",
            "allconcat: 8.32e+03\n",
            " allconcat/0: 128\n",
            "  allconcat/0/reshape_op: 128\n",
            " allconcat/1: 8.19e+03\n",
            "  allconcat/1/reshape_op: 8.19e+03\n",
            "allreduce: 1.87e+08\n",
            " allreduce/[0]: 1.87e+08\n",
            "  allreduce/[0]/einsum_op: 1.87e+08\n",
            "  allreduce/[0]/reduce_op: 64\n",
            " allreduce/[1]: 2\n",
            "  allreduce/[1]/reduce_op: 2\n",
            "einsum: 1.18e+12\n",
            "einsum_unique: 1.18e+12\n",
            "output: 1.08e+10\n",
            " output/AddOperation: 3.02e+09\n",
            " output/BinaryOpWithBroadcasting: 1.9e+07\n",
            " output/BroadcastOperation: 32\n",
            " output/Constant: 1.01e+08\n",
            " output/EinsumOperation: 2.8e+09\n",
            " output/ImportOperation: 4.15e+03\n",
            " output/MinMaxOperation: 4.72e+06\n",
            " output/OneHotOperation: 7.59e+08\n",
            " output/RangeOperation: 1.02e+03\n",
            " output/ReduceOperation: 3.9e+06\n",
            " output/ReshapeOperation: 6.56e+08\n",
            " output/ScalarAddOperation: 6.66e+06\n",
            " output/ScalarMultiplyOperation: 3.39e+07\n",
            " output/ShiftOperation: 1.64e+04\n",
            " output/SlicewiseOperation: 2.31e+09\n",
            " output/StopGradient: 9.06e+08\n",
            " output/Variable: 6.05e+07\n",
            " output/WhileLoopOperation: 1.01e+08\n",
            "output_unique: 1.08e+10\n",
            " output_unique/AddOperation: 3.02e+09\n",
            " output_unique/BinaryOpWithBroadcasting: 1.9e+07\n",
            " output_unique/BroadcastOperation: 32\n",
            " output_unique/Constant: 1.01e+08\n",
            " output_unique/EinsumOperation: 2.8e+09\n",
            " output_unique/ImportOperation: 4.15e+03\n",
            " output_unique/MinMaxOperation: 4.72e+06\n",
            " output_unique/OneHotOperation: 7.59e+08\n",
            " output_unique/RangeOperation: 1.02e+03\n",
            " output_unique/ReduceOperation: 3.9e+06\n",
            " output_unique/ReshapeOperation: 6.56e+08\n",
            " output_unique/ScalarAddOperation: 6.66e+06\n",
            " output_unique/ScalarMultiplyOperation: 3.39e+07\n",
            " output_unique/ShiftOperation: 1.64e+04\n",
            " output_unique/SlicewiseOperation: 2.31e+09\n",
            " output_unique/StopGradient: 9.06e+08\n",
            " output_unique/Variable: 6.05e+07\n",
            " output_unique/WhileLoopOperation: 1.01e+08\n",
            "variables: 6.05e+07\n",
            " variables/trainable: 6.05e+07\n",
            "INFO:tensorflow:Done calling model_fn.\n",
            "INFO:tensorflow:Graph was finalized.\n",
            "INFO:tensorflow:Restoring parameters from small/model.ckpt-200000\n",
            "INFO:tensorflow:Running local_init_op.\n",
            "INFO:tensorflow:Done running local_init_op.\n",
            "INFO:tensorflow:Before copy master to slices.\n",
            "INFO:tensorflow:Done with copy master to slices.\n",
            "INFO:tensorflow:decoded 0: b\"function documentation generation php: public static function update ( $ table ) { if ( ! is_array ( $ table ) ) { $ table = json_decode ( $ table , true ) ; } if ( ! SchemaManager :: tableExists ( $ table [ 'oldName' ] ) ) { throw SchemaException :: tableDoesNotExist ( $ table [ 'oldName' ] ) ; } $ updater = new self ( $ table ) ; $ updater -> updateTable ( ) ; }\"\n",
            "INFO:tensorflow:            -> b'Update table with specific data'\n",
            "INFO:tensorflow:decoded 1: b\"function documentation generation php: public static function update ( $ table ) { if ( ! is_array ( $ table ) ) { $ table = json_decode ( $ table , true ) ; } if ( ! SchemaManager :: tableExists ( $ table [ 'oldName' ] ) ) { throw SchemaException :: tableDoesNotExist ( $ table [ 'oldName' ] ) ; } $ updater = new self ( $ table ) ; $ updater -> updateTable ( ) ; }\"\n",
            "INFO:tensorflow:            -> b'Update table with specific data'\n",
            "INFO:tensorflow:decoded 2: b\"function documentation generation php: public static function update ( $ table ) { if ( ! is_array ( $ table ) ) { $ table = json_decode ( $ table , true ) ; } if ( ! SchemaManager :: tableExists ( $ table [ 'oldName' ] ) ) { throw SchemaException :: tableDoesNotExist ( $ table [ 'oldName' ] ) ; } $ updater = new self ( $ table ) ; $ updater -> updateTable ( ) ; }\"\n",
            "INFO:tensorflow:            -> b'Update table with specific data'\n",
            "INFO:tensorflow:decoded 4: b\"function documentation generation php: public static function update ( $ table ) { if ( ! is_array ( $ table ) ) { $ table = json_decode ( $ table , true ) ; } if ( ! SchemaManager :: tableExists ( $ table [ 'oldName' ] ) ) { throw SchemaException :: tableDoesNotExist ( $ table [ 'oldName' ] ) ; } $ updater = new self ( $ table ) ; $ updater -> updateTable ( ) ; }\"\n",
            "INFO:tensorflow:            -> b'Update table with specific data'\n",
            "INFO:tensorflow:prediction_loop marked as finished\n",
            "INFO:tensorflow:prediction_loop marked as finished\n"
          ],
          "name": "stdout"
        }
      ]
    },
    {
      "cell_type": "markdown",
      "metadata": {
        "id": "La_Lmsj1J7Wq"
      },
      "source": [
        "### Code Summarization Result"
      ]
    },
    {
      "cell_type": "code",
      "metadata": {
        "id": "Fov0lPWdD72H",
        "outputId": "22c20069-540a-4a3f-f4bb-6b864dbfecc1",
        "colab": {
          "base_uri": "https://localhost:8080/"
        }
      },
      "source": [
        "prediction_file = \"MtfModel-output.txt-200000\"\n",
        "print(\"\\nPredictions using checkpoint 200000:\\n\" )\n",
        "with tf.io.gfile.GFile(prediction_file) as f:\n",
        "  for c, d in zip(codes, f):\n",
        "    if c:\n",
        "      print(\"Code for prediction: \" + c + '\\n')\n",
        "      print(\"Generated Documentation: \" + d)\n"
      ],
      "execution_count": 15,
      "outputs": [
        {
          "output_type": "stream",
          "text": [
            "\n",
            "Predictions using checkpoint 200000:\n",
            "\n",
            "Code for prediction: public static function update ( $ table ) { if ( ! is_array ( $ table ) ) { $ table = json_decode ( $ table , true ) ; } if ( ! SchemaManager :: tableExists ( $ table [ 'oldName' ] ) ) { throw SchemaException :: tableDoesNotExist ( $ table [ 'oldName' ] ) ; } $ updater = new self ( $ table ) ; $ updater -> updateTable ( ) ; }\n",
            "\n",
            "Generated Documentation: b'Update table with specific data'\n",
            "\n"
          ],
          "name": "stdout"
        }
      ]
    }
  ]
}